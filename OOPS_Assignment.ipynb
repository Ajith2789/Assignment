{
  "nbformat": 4,
  "nbformat_minor": 0,
  "metadata": {
    "colab": {
      "provenance": []
    },
    "kernelspec": {
      "name": "python3",
      "display_name": "Python 3"
    },
    "language_info": {
      "name": "python"
    }
  },
  "cells": [
    {
      "cell_type": "markdown",
      "source": [
        "**1.What are the five key concepts of Object-Oriented Programming (OOP)?**\n"
      ],
      "metadata": {
        "id": "HcvS04gzxO35"
      }
    },
    {
      "cell_type": "code",
      "execution_count": null,
      "metadata": {
        "id": "zW1NAHd0w5-8"
      },
      "outputs": [],
      "source": [
        "\"\"\"\n",
        "The five key concepts of Object-Oriented Programming (OOP) are:\n",
        "\n",
        "Class: A blueprint for creating objects. It defines the attributes (variables) and methods (functions) that the objects created from it will have.\n",
        "\n",
        "Example: A Car class with attributes like color and speed and methods like drive().\n",
        "Object: An instance of a class. It represents a specific entity created from the class.\n",
        "\n",
        "Example: myCar = Car() creates an object myCar from the Car class.\n",
        "\n",
        "Encapsulation: Bundling data (attributes) and methods that operate on the data into a single unit (class), and restricting direct access to some of the object's components.\n",
        "\n",
        "Example: Using private variables and public methods to control access.\n",
        "\n",
        "Inheritance: A mechanism where a new class inherits attributes and methods from an existing class, allowing code reuse and the creation of hierarchical relationships.\n",
        "\n",
        "Example: A SportsCar class inherits from the Car class.\n",
        "\n",
        "Polymorphism: The ability of different objects to respond to the same method in their own way. It allows methods to be defined in a way that is flexible for multiple object types.\n",
        "\n",
        "Example: A Car class and a Bicycle class can both have a move() method, but each class implements it differently.\n",
        "\n",
        "These concepts help in organizing and managing complex programs by using a structured and reusable approach.\"\"\""
      ]
    },
    {
      "cell_type": "markdown",
      "source": [
        "**2. Write a Python class for a `Car` with attributes for `make`, `model`, and `year`. Include a method to display\n",
        "the car's information ?**"
      ],
      "metadata": {
        "id": "gtQE1XbYx_-1"
      }
    },
    {
      "cell_type": "code",
      "source": [
        "class Car:\n",
        "    def __init__(self, make, model, year):\n",
        "        self.make=make\n",
        "        self.model=model\n",
        "        self.year=year\n",
        "\n",
        "    def cars_information(self):\n",
        "        print(f\"Car's information {self.make},{self.model},{self.year}\")"
      ],
      "metadata": {
        "id": "7x9dVsI3yEF5"
      },
      "execution_count": 1,
      "outputs": []
    },
    {
      "cell_type": "code",
      "source": [
        "cr = Car(\"Toyota\",\"Corolla\",2023)\n",
        "cr.cars_information()"
      ],
      "metadata": {
        "colab": {
          "base_uri": "https://localhost:8080/"
        },
        "id": "u798XDB0yTXm",
        "outputId": "201fa6b0-685a-4b40-ce12-f490d2f583ae"
      },
      "execution_count": 2,
      "outputs": [
        {
          "output_type": "stream",
          "name": "stdout",
          "text": [
            "Car's information Toyota,Corolla,2023\n"
          ]
        }
      ]
    },
    {
      "cell_type": "markdown",
      "source": [
        "### **3. Explain the difference between instance methods and class methods. Provide an example of each ?**\n",
        "\n",
        "**Instance methods and class methods are two types of methods that are defined in a class, but they have different purposes and behaviors.**\n",
        "\n",
        "####**1. Instance Methods:** Definition: Instance methods are methods that operate on an instance of a class (i.e., the object itself). They can access and modify object-specific data (instance variables).\n",
        "\n",
        "**Access:** They can access instance variables and instance-specific data through the self\n",
        "\n",
        "**Usage:** Used for actions specific to an individual object.\n",
        "\n",
        "**How to Identify:** They always take '__self__' as the first parameter, which refers to the specific instance."
      ],
      "metadata": {
        "id": "W1-rnlyiyW_D"
      }
    },
    {
      "cell_type": "code",
      "source": [
        "class Car:\n",
        "    def __init__(self, make, model, year):\n",
        "        self.make=make\n",
        "        self.model=model\n",
        "        self.year=year\n",
        "\n",
        "    def cars_information(self):\n",
        "        print(f\"Car's information {self.make},{self.model},{self.year}\")"
      ],
      "metadata": {
        "id": "ZQtuiqqEyksG"
      },
      "execution_count": 3,
      "outputs": []
    },
    {
      "cell_type": "code",
      "source": [
        "c=Car(\"Toyota\",\"Corolla\",2023)\n",
        "c.cars_information()"
      ],
      "metadata": {
        "colab": {
          "base_uri": "https://localhost:8080/"
        },
        "id": "ewSxje6xyzx2",
        "outputId": "bf770de0-33cd-48f9-b15f-29f767af192e"
      },
      "execution_count": 4,
      "outputs": [
        {
          "output_type": "stream",
          "name": "stdout",
          "text": [
            "Car's information Toyota,Corolla,2023\n"
          ]
        }
      ]
    },
    {
      "cell_type": "markdown",
      "source": [
        "**2.Class method :** which are not bound to any specific instance but the class.\n",
        "\n",
        "You can use class methods for any methods that are not bound to a specific instance but the class. In practice, you often use class methods for methods that create an instance of the class.\n",
        "\n",
        "When a method creates an instance of the class and returns it, the method is called a factory method. For example, the create_anonymous() is a factory method because it returns a new instance of the Person class."
      ],
      "metadata": {
        "id": "Te6UE-djy4y0"
      }
    },
    {
      "cell_type": "code",
      "source": [
        "class Car:\n",
        "  make = None  # Class-level attribute\n",
        "  model = None  # Class-level attribute\n",
        "  def __init__(self,make,model):\n",
        "    self.make=make\n",
        "    self.model=model\n",
        "\n",
        "  @classmethod\n",
        "  def car_info(cls):\n",
        "    return f'{cls.make} {cls.model}'\n",
        "\n",
        "  @classmethod\n",
        "  def car_set(cls,model,make):\n",
        "    cls.make=make\n",
        "    cls.model=model\n",
        "\n",
        "  @classmethod\n",
        "  def car_get(cls):\n",
        "    return f'{cls.make} {cls.model}'\n",
        "  @classmethod\n",
        "  def delete_car1(cls):\n",
        "    del cls.model\n",
        "    del cls.make\n",
        "    return 'deleted'"
      ],
      "metadata": {
        "id": "OKBNOsGPy24O"
      },
      "execution_count": 5,
      "outputs": []
    },
    {
      "cell_type": "code",
      "source": [
        "Car('bmw','x5')"
      ],
      "metadata": {
        "colab": {
          "base_uri": "https://localhost:8080/"
        },
        "id": "pR5XiaI7zdM1",
        "outputId": "8fc8b3ac-45d2-466f-b9ec-7d0f956efef0"
      },
      "execution_count": 6,
      "outputs": [
        {
          "output_type": "execute_result",
          "data": {
            "text/plain": [
              "<__main__.Car at 0x792dec12a6b0>"
            ]
          },
          "metadata": {},
          "execution_count": 6
        }
      ]
    },
    {
      "cell_type": "code",
      "source": [
        "Car.car_info()"
      ],
      "metadata": {
        "colab": {
          "base_uri": "https://localhost:8080/",
          "height": 36
        },
        "id": "RNEtesNzzdBP",
        "outputId": "0442b92d-3ede-494b-a504-9bdca73eff79"
      },
      "execution_count": 7,
      "outputs": [
        {
          "output_type": "execute_result",
          "data": {
            "text/plain": [
              "'None None'"
            ],
            "application/vnd.google.colaboratory.intrinsic+json": {
              "type": "string"
            }
          },
          "metadata": {},
          "execution_count": 7
        }
      ]
    },
    {
      "cell_type": "code",
      "source": [
        "Car.car_set('Audi','Q7')"
      ],
      "metadata": {
        "id": "qYMDdvWuzc14"
      },
      "execution_count": 8,
      "outputs": []
    },
    {
      "cell_type": "code",
      "source": [
        "Car.car_get()"
      ],
      "metadata": {
        "colab": {
          "base_uri": "https://localhost:8080/",
          "height": 36
        },
        "id": "mVPdz7xjzk5q",
        "outputId": "592eacd4-15ab-4ea8-94fe-c85ba6c6f3c1"
      },
      "execution_count": 9,
      "outputs": [
        {
          "output_type": "execute_result",
          "data": {
            "text/plain": [
              "'Q7 Audi'"
            ],
            "application/vnd.google.colaboratory.intrinsic+json": {
              "type": "string"
            }
          },
          "metadata": {},
          "execution_count": 9
        }
      ]
    },
    {
      "cell_type": "code",
      "source": [
        "#2nd type\n",
        "# as we r not using any call level attributes it will throw an error if we directly try to access the attributes make and model\n",
        "class Car:\n",
        "  #here wee dont need the __init__ method as we are not deleling with the instances\n",
        "  @classmethod\n",
        "  def car_info(cls):\n",
        "    return f'{cls.make} {cls.model}'\n",
        "\n",
        "  @classmethod\n",
        "  def car_set(cls,model,make):\n",
        "    cls.make=make\n",
        "    cls.model=model\n",
        "\n",
        "  @classmethod\n",
        "  def car_get(cls):\n",
        "    return f'{cls.make} {cls.model}'\n",
        "  @classmethod\n",
        "  def delete_car1(cls):\n",
        "    del cls.model\n",
        "    del cls.make\n",
        "    return 'deleted'"
      ],
      "metadata": {
        "id": "3nGfD_mvzpc3"
      },
      "execution_count": 10,
      "outputs": []
    },
    {
      "cell_type": "code",
      "source": [
        "Car.car_set('Audi','Q7')"
      ],
      "metadata": {
        "id": "RPTDW1vxzpMw"
      },
      "execution_count": 11,
      "outputs": []
    },
    {
      "cell_type": "code",
      "source": [
        "Car.car_get()"
      ],
      "metadata": {
        "colab": {
          "base_uri": "https://localhost:8080/",
          "height": 36
        },
        "id": "Eyzyjxx5z0A_",
        "outputId": "53ca53b1-f503-4df1-daaf-3cba340f5e1c"
      },
      "execution_count": 12,
      "outputs": [
        {
          "output_type": "execute_result",
          "data": {
            "text/plain": [
              "'Q7 Audi'"
            ],
            "application/vnd.google.colaboratory.intrinsic+json": {
              "type": "string"
            }
          },
          "metadata": {},
          "execution_count": 12
        }
      ]
    },
    {
      "cell_type": "code",
      "source": [
        "#if we directly try to access the make and model it will throw an error\n",
        "Car.make"
      ],
      "metadata": {
        "colab": {
          "base_uri": "https://localhost:8080/",
          "height": 36
        },
        "id": "sD6it3TBz3cJ",
        "outputId": "f9955c87-5b91-420a-9582-858e57fd0077"
      },
      "execution_count": 13,
      "outputs": [
        {
          "output_type": "execute_result",
          "data": {
            "text/plain": [
              "'Q7'"
            ],
            "application/vnd.google.colaboratory.intrinsic+json": {
              "type": "string"
            }
          },
          "metadata": {},
          "execution_count": 13
        }
      ]
    },
    {
      "cell_type": "code",
      "source": [
        "class Car:\n",
        "    def __init__(self, make, model):\n",
        "        self.make = make\n",
        "        self.model = model\n",
        "\n",
        "    def car_info(self):\n",
        "        \"\"\"Return car's make and model.\"\"\"\n",
        "        return f'{self.make} {self.model}'\n",
        "\n",
        "    def car_set(self, make, model):\n",
        "        \"\"\"Set new make and model.\"\"\"\n",
        "        self.make = make\n",
        "        self.model = model\n",
        "\n",
        "    def car_get(self):\n",
        "        \"\"\"Get the car's current make and model.\"\"\"\n",
        "        return f'{self.make} {self.model}'\n",
        "\n",
        "    def delete_car(self):\n",
        "        \"\"\"Delete make and model attributes.\"\"\"\n",
        "        del self.model\n",
        "        del self.make\n",
        "        return 'deleted'\n",
        "\n",
        "# Example usage:\n",
        "car_instance = Car('BMW', 'X5')\n",
        "\n",
        "# Get initial car info\n",
        "print(car_instance.car_info())\n",
        "\n",
        "# Set new make and model\n",
        "car_instance.car_set('Audi', 'Q7')\n",
        "\n",
        "# Get updated car info\n",
        "print(car_instance.car_get())\n",
        "\n",
        "# Delete make and model\n",
        "print(car_instance.delete_car())\n"
      ],
      "metadata": {
        "colab": {
          "base_uri": "https://localhost:8080/"
        },
        "id": "BB7WOCzmz7JZ",
        "outputId": "89ed8749-1b20-46ae-c0b2-6a0c2bbbe431"
      },
      "execution_count": 14,
      "outputs": [
        {
          "output_type": "stream",
          "name": "stdout",
          "text": [
            "BMW X5\n",
            "Audi Q7\n",
            "deleted\n"
          ]
        }
      ]
    },
    {
      "cell_type": "markdown",
      "source": [
        "**4. How does Python implement method overloading? Give an example?**\n",
        "\n",
        "Python does not support method overloading directly like some other languages (e.g., Java or C++). Instead, Python handles method overloading by allowing default arguments or using variable arguments (*args, **kwargs) in a method. This means a single method can be written to handle different numbers of arguments."
      ],
      "metadata": {
        "id": "zebb0nIT0DCK"
      }
    },
    {
      "cell_type": "code",
      "source": [
        "class Calculator:\n",
        "    def add(self, a, b=0):\n",
        "        return a + b\n",
        "\n",
        "calc = Calculator()\n",
        "\n",
        "# Calling the method with one argument\n",
        "print(calc.add(5))\n",
        "# Calling the method with two arguments\n",
        "print(calc.add(5, 10))"
      ],
      "metadata": {
        "colab": {
          "base_uri": "https://localhost:8080/"
        },
        "id": "NSXwEy1E0Cpg",
        "outputId": "37103151-0087-4e01-e40f-e6791a81a417"
      },
      "execution_count": 15,
      "outputs": [
        {
          "output_type": "stream",
          "name": "stdout",
          "text": [
            "5\n",
            "15\n"
          ]
        }
      ]
    },
    {
      "cell_type": "markdown",
      "source": [
        "**5. What are the three types of access modifiers in Python? How are they denoted?**\n"
      ],
      "metadata": {
        "id": "7S73pkoP0MhY"
      }
    },
    {
      "cell_type": "code",
      "source": [
        "\"\"\" In Python, the three types of access modifiers are:\n",
        "\n",
        "Public: Accessible from anywhere. Denoted by no leading underscores.\n",
        "\n",
        "Example: self.name\n",
        "Protected: Accessible within the class and its subclasses. Denoted by a single leading underscore (_).\n",
        "\n",
        "Example: self._name\n",
        "Private: Accessible only within the class. Denoted by two leading underscores (__).\"\"\"\n",
        "\n",
        "#Example: self.__name"
      ],
      "metadata": {
        "id": "xowY9aAE0YFL"
      },
      "execution_count": null,
      "outputs": []
    },
    {
      "cell_type": "markdown",
      "source": [
        "**6. Describe the five types of inheritance in Python. Provide a simple example of multiple inheritance?**\n"
      ],
      "metadata": {
        "id": "GIHfi29b1A9i"
      }
    },
    {
      "cell_type": "code",
      "source": [
        "\"\"\"\n",
        "Single Inheritance: A child class inherits from one parent class.\n",
        "\n",
        "Multiple Inheritance: A child class inherits from more than one parent class.\n",
        "\n",
        "Multilevel Inheritance: A class is derived from a class that is already derived from another class.\n",
        "\n",
        "Hierarchical Inheritance: Multiple child classes inherit from a single parent class.\n",
        "\n",
        "Hybrid Inheritance: A combination of more than one type of inheritance.\"\"\"\n",
        "#Example of Multiple Inheritance:"
      ],
      "metadata": {
        "id": "WkUhB60L1QvK"
      },
      "execution_count": null,
      "outputs": []
    },
    {
      "cell_type": "code",
      "source": [
        "class Parent1:\n",
        "    def display_p1(self):\n",
        "        print(\"This is Parent1\")\n",
        "\n",
        "class Parent2:\n",
        "    def display_p2(self):\n",
        "        print(\"This is Parent2\")\n",
        "\n",
        "class Child(Parent1, Parent2):\n",
        "    def display_child(self):\n",
        "        print(\"This is Child\")\n",
        "\n",
        "# Creating an object of Child class\n",
        "c = Child()\n",
        "c.display_p1()  # Accessing method from Parent1\n",
        "c.display_p2()  # Accessing method from Parent2\n",
        "c.display_child()  # Accessing method from Child"
      ],
      "metadata": {
        "colab": {
          "base_uri": "https://localhost:8080/"
        },
        "id": "VBwUukP71rmA",
        "outputId": "5d12eef0-7aff-4d18-99c7-1d0faf6b165e"
      },
      "execution_count": 16,
      "outputs": [
        {
          "output_type": "stream",
          "name": "stdout",
          "text": [
            "This is Parent1\n",
            "This is Parent2\n",
            "This is Child\n"
          ]
        }
      ]
    },
    {
      "cell_type": "markdown",
      "source": [
        "**7. What is the Method Resolution Order (MRO) in Python? How can you retrieve it programmatically?**\n",
        "\n",
        "The Method Resolution Order __(MRO)__ in Python is the order in which Python looks for a method in a hierarchy of classes. This is especially important in the context of multiple inheritance. Python uses the C3 linearization algorithm to determine the MRO, ensuring a consistent and predictable order."
      ],
      "metadata": {
        "id": "KouHc8D31zhJ"
      }
    },
    {
      "cell_type": "code",
      "source": [
        "#example for it\n",
        "class A:\n",
        "  def display(self):\n",
        "    print(\"im in A class\")\n",
        "class B(A):\n",
        "  def display(self):\n",
        "    print(\"im in B class\")\n",
        "class C(A):\n",
        "  def display(self):\n",
        "    print(\"im in C class\")\n",
        "class D(B,C):\n",
        "  def hello(self):\n",
        "    print(\"im in D class\")"
      ],
      "metadata": {
        "id": "rudms7LX14vm"
      },
      "execution_count": 17,
      "outputs": []
    },
    {
      "cell_type": "code",
      "source": [
        "d=D()"
      ],
      "metadata": {
        "id": "WpuDoGGt19xu"
      },
      "execution_count": 18,
      "outputs": []
    },
    {
      "cell_type": "code",
      "source": [
        "d.display()"
      ],
      "metadata": {
        "colab": {
          "base_uri": "https://localhost:8080/"
        },
        "id": "KZBtbNeY2BLX",
        "outputId": "b62d9992-4ca1-42ed-d0f4-59384f9b6bc7"
      },
      "execution_count": 19,
      "outputs": [
        {
          "output_type": "stream",
          "name": "stdout",
          "text": [
            "im in B class\n"
          ]
        }
      ]
    },
    {
      "cell_type": "code",
      "source": [
        "d.hello()"
      ],
      "metadata": {
        "colab": {
          "base_uri": "https://localhost:8080/"
        },
        "id": "Ec-HAsyO2EId",
        "outputId": "f05bf2bf-74be-4e9c-a620-7ec11ef2915b"
      },
      "execution_count": 20,
      "outputs": [
        {
          "output_type": "stream",
          "name": "stdout",
          "text": [
            "im in D class\n"
          ]
        }
      ]
    },
    {
      "cell_type": "markdown",
      "source": [
        "** 8. Create an abstract base class `Shape` with an abstract method `area()`. Then create two subclasses\n",
        "`Circle` and `Rectangle` that implement the `area()` method?**"
      ],
      "metadata": {
        "id": "kkT2xjJG2Iej"
      }
    },
    {
      "cell_type": "code",
      "source": [
        "\"\"\"\n",
        "here are few points about the abstraction\n",
        "\n",
        "it is the concept of hiding the complex implementation\n",
        "\n",
        "hiding unwanted details and exposing the required\n",
        "\n",
        "abstract class can not be instantiated (can not make object)\n",
        "\n",
        "abstarct class may conatin menthods that are just declared an dnot implemented\n",
        "in abstract class itself, subclass are responsible for implementing these abstract methods."
      ],
      "metadata": {
        "id": "5ziSSl-w2HFn"
      },
      "execution_count": null,
      "outputs": []
    },
    {
      "cell_type": "code",
      "source": [
        "import abc\n",
        "import math\n",
        "\n",
        "class Shape:\n",
        "\n",
        "  @abc.abstractmethod\n",
        "  def area(self):\n",
        "    pass\n",
        "\n",
        "class Circle(Shape):\n",
        "  def __init__(self,radius):\n",
        "    self.radius=radius\n",
        "  def area(self):\n",
        "    return math.pi*self.radius**2\n",
        "\n",
        "class Rectangle(Shape):\n",
        "  def __init__(self,l,b):\n",
        "    self.l=l\n",
        "    self.b=b\n",
        "  def area(self):\n",
        "    return self.l*self.b"
      ],
      "metadata": {
        "id": "z2ZIrrO82fjg"
      },
      "execution_count": 21,
      "outputs": []
    },
    {
      "cell_type": "code",
      "source": [
        "c=Circle(5)\n",
        "c.area"
      ],
      "metadata": {
        "colab": {
          "base_uri": "https://localhost:8080/",
          "height": 103
        },
        "id": "OW8C1ymO2kPo",
        "outputId": "be67e1d0-00cd-4720-a583-62b1709d42a0"
      },
      "execution_count": 22,
      "outputs": [
        {
          "output_type": "execute_result",
          "data": {
            "text/plain": [
              "<bound method Circle.area of <__main__.Circle object at 0x792decabd150>>"
            ],
            "text/html": [
              "<div style=\"max-width:800px; border: 1px solid var(--colab-border-color);\"><style>\n",
              "      pre.function-repr-contents {\n",
              "        overflow-x: auto;\n",
              "        padding: 8px 12px;\n",
              "        max-height: 500px;\n",
              "      }\n",
              "\n",
              "      pre.function-repr-contents.function-repr-contents-collapsed {\n",
              "        cursor: pointer;\n",
              "        max-height: 100px;\n",
              "      }\n",
              "    </style>\n",
              "    <pre style=\"white-space: initial; background:\n",
              "         var(--colab-secondary-surface-color); padding: 8px 12px;\n",
              "         border-bottom: 1px solid var(--colab-border-color);\"><b>Circle.area</b><br/>def area()</pre><pre class=\"function-repr-contents function-repr-contents-collapsed\" style=\"\"><a class=\"filepath\" style=\"display:none\" href=\"#\">/content/&lt;ipython-input-21-2a518d954438&gt;</a>&lt;no docstring&gt;</pre></div>"
            ]
          },
          "metadata": {},
          "execution_count": 22
        }
      ]
    },
    {
      "cell_type": "code",
      "source": [
        "c.area()"
      ],
      "metadata": {
        "colab": {
          "base_uri": "https://localhost:8080/"
        },
        "id": "qDSRq85z2nHW",
        "outputId": "91c23c3d-0dab-410d-b175-208a6f96ac8f"
      },
      "execution_count": 23,
      "outputs": [
        {
          "output_type": "execute_result",
          "data": {
            "text/plain": [
              "78.53981633974483"
            ]
          },
          "metadata": {},
          "execution_count": 23
        }
      ]
    },
    {
      "cell_type": "code",
      "source": [
        "r=Rectangle(4,5)\n",
        "r.area()"
      ],
      "metadata": {
        "colab": {
          "base_uri": "https://localhost:8080/"
        },
        "id": "px-W5Urh2pln",
        "outputId": "5a62c0dc-5fea-4708-d349-1b365042de58"
      },
      "execution_count": 24,
      "outputs": [
        {
          "output_type": "execute_result",
          "data": {
            "text/plain": [
              "20"
            ]
          },
          "metadata": {},
          "execution_count": 24
        }
      ]
    },
    {
      "cell_type": "markdown",
      "source": [
        "**9. Demonstrate polymorphism by creating a function that can work with different shape objects to calculate\n",
        "and print their areas?**"
      ],
      "metadata": {
        "id": "leiJcBGd2tEa"
      }
    },
    {
      "cell_type": "code",
      "source": [
        "import abc\n",
        "\n",
        "class Shape:\n",
        "\n",
        "\n",
        "  def area(self):\n",
        "    pass\n",
        "\n",
        "class Rectangle(Shape):\n",
        "\n",
        "  def __init__(self,l):\n",
        "    self.l=l\n",
        "  def area(self):\n",
        "    return self.l**2\n",
        "\n",
        "class Circle(Shape):\n",
        "  def __init__(self,r):\n",
        "    self.r=r\n",
        "  def area(self):\n",
        "    return 3.14*self.r**2\n",
        "\n",
        "class Triangle(Shape):\n",
        "  def __init__(self,b,h):\n",
        "    self.b=b\n",
        "    self.h=h\n",
        "  def area(self):\n",
        "    return 0.5*self.b*self.h\n",
        "\n",
        "\n",
        "def print_area(Shape):\n",
        "  for shape in Shape:\n",
        "    print(shape.area())\n",
        "  print(f\"area of the shape is {shape.area()}\")"
      ],
      "metadata": {
        "id": "-7d45x5p2r4k"
      },
      "execution_count": 25,
      "outputs": []
    },
    {
      "cell_type": "code",
      "source": [
        "r=Rectangle(5)\n",
        "c=Circle(5)\n",
        "t=Triangle(5,6)\n",
        "r.area()"
      ],
      "metadata": {
        "colab": {
          "base_uri": "https://localhost:8080/"
        },
        "id": "p-6b-iVk25Yh",
        "outputId": "4defe53a-2041-4125-ec9f-270ff59f7a11"
      },
      "execution_count": 26,
      "outputs": [
        {
          "output_type": "execute_result",
          "data": {
            "text/plain": [
              "25"
            ]
          },
          "metadata": {},
          "execution_count": 26
        }
      ]
    },
    {
      "cell_type": "markdown",
      "source": [
        "** 10. Implement encapsulation in a `BankAccount` class with private attributes for `balance` and\n",
        "`account_number`. Include methods for deposit, withdrawal, and balance inquiry?**"
      ],
      "metadata": {
        "id": "R5zrBm_V2-X0"
      }
    },
    {
      "cell_type": "code",
      "source": [
        "class BankAccount:\n",
        "\n",
        "  def __init__(self,balance,account_number):\n",
        "    self.__balance=balance\n",
        "    self.__account_number=account_number\n",
        "\n",
        "  def deposit(self,amount):\n",
        "    self.__balance+=amount\n",
        "    return self.__balance\n",
        "  def withdrawal(self,amount):\n",
        "    if self.__balance>=amount:\n",
        "      self.__balance-=amount\n",
        "      return self.__balance\n",
        "    else:\n",
        "      return \"insufficient balance\"\n",
        "  def balance_inquiry(self):\n",
        "    return self.__balance"
      ],
      "metadata": {
        "id": "2P7IU-ny3Bsl"
      },
      "execution_count": 27,
      "outputs": []
    },
    {
      "cell_type": "code",
      "source": [
        "b=BankAccount(1000,123456789)\n",
        "b.deposit(500)"
      ],
      "metadata": {
        "colab": {
          "base_uri": "https://localhost:8080/"
        },
        "id": "E2AI3mFH3FnP",
        "outputId": "a073fe25-8553-4671-dd42-241a4b5eed04"
      },
      "execution_count": 28,
      "outputs": [
        {
          "output_type": "execute_result",
          "data": {
            "text/plain": [
              "1500"
            ]
          },
          "metadata": {},
          "execution_count": 28
        }
      ]
    },
    {
      "cell_type": "code",
      "source": [
        "b.withdrawal(1000)"
      ],
      "metadata": {
        "colab": {
          "base_uri": "https://localhost:8080/"
        },
        "id": "_ZHvMWLM3IYc",
        "outputId": "9b3e735d-8897-412d-941a-e30091a92a97"
      },
      "execution_count": 29,
      "outputs": [
        {
          "output_type": "execute_result",
          "data": {
            "text/plain": [
              "500"
            ]
          },
          "metadata": {},
          "execution_count": 29
        }
      ]
    },
    {
      "cell_type": "code",
      "source": [
        "b.withdrawal(600)"
      ],
      "metadata": {
        "colab": {
          "base_uri": "https://localhost:8080/",
          "height": 36
        },
        "id": "lXKpFJpp3MZc",
        "outputId": "32a7fcd9-3619-4c08-cb68-374403abe732"
      },
      "execution_count": 30,
      "outputs": [
        {
          "output_type": "execute_result",
          "data": {
            "text/plain": [
              "'insufficient balance'"
            ],
            "application/vnd.google.colaboratory.intrinsic+json": {
              "type": "string"
            }
          },
          "metadata": {},
          "execution_count": 30
        }
      ]
    },
    {
      "cell_type": "code",
      "source": [
        "b.withdrawal(500)"
      ],
      "metadata": {
        "colab": {
          "base_uri": "https://localhost:8080/"
        },
        "id": "dBHy0_-x3OsY",
        "outputId": "711d4c1d-d3bc-44c3-b245-6b2c7fb33b0c"
      },
      "execution_count": 31,
      "outputs": [
        {
          "output_type": "execute_result",
          "data": {
            "text/plain": [
              "0"
            ]
          },
          "metadata": {},
          "execution_count": 31
        }
      ]
    },
    {
      "cell_type": "markdown",
      "source": [
        "**11. Write a class that overrides the `__str__` and `__add__` magic methods. What will these methods allow\n",
        "you to do?**"
      ],
      "metadata": {
        "id": "s3N5n3JM3S3M"
      }
    },
    {
      "cell_type": "code",
      "source": [
        "class Collage:\n",
        "\n",
        "  def __init__(self,b,g,fname,lname):\n",
        "    self.b=b\n",
        "    self.g=g\n",
        "    self.fname=fname\n",
        "    self.lname=lname\n",
        "\n",
        "  def __add__(self):\n",
        "    return f\"Total no. of students in a class {self.b+self.g}\"\n",
        "\n",
        "  def __str__(self):\n",
        "    return f\"Full name is {self.fname+' '+self.lname}\""
      ],
      "metadata": {
        "id": "yZBkDt_53QkY"
      },
      "execution_count": 32,
      "outputs": []
    },
    {
      "cell_type": "code",
      "source": [
        "c=Collage(50,50,'puppala','mahesh')"
      ],
      "metadata": {
        "id": "409or94P3agx"
      },
      "execution_count": 33,
      "outputs": []
    },
    {
      "cell_type": "code",
      "source": [
        "print(c)"
      ],
      "metadata": {
        "colab": {
          "base_uri": "https://localhost:8080/"
        },
        "id": "2JxnwOBR3dgd",
        "outputId": "a5a54c99-be8b-49e0-d1a8-af7059bc5bea"
      },
      "execution_count": 34,
      "outputs": [
        {
          "output_type": "stream",
          "name": "stdout",
          "text": [
            "Full name is puppala mahesh\n"
          ]
        }
      ]
    },
    {
      "cell_type": "code",
      "source": [
        "print(c.__add__())"
      ],
      "metadata": {
        "colab": {
          "base_uri": "https://localhost:8080/"
        },
        "id": "GRtjzV6p3fvM",
        "outputId": "2eda67b3-9f88-42a4-a017-83154f5a7fd2"
      },
      "execution_count": 35,
      "outputs": [
        {
          "output_type": "stream",
          "name": "stdout",
          "text": [
            "Total no. of students in a class 100\n"
          ]
        }
      ]
    },
    {
      "cell_type": "markdown",
      "source": [
        "**12. Create a decorator that measures and prints the execution time of a function?**"
      ],
      "metadata": {
        "id": "qFao_urd3jGz"
      }
    },
    {
      "cell_type": "code",
      "source": [
        "import time\n",
        "\n",
        "def Decorator(func):\n",
        "  def wrapper():\n",
        "    start=time.time()\n",
        "    print(start)\n",
        "    print(\"before the execution of function\")\n",
        "    func()\n",
        "    end=time.time()\n",
        "    print(\"after the execution of fuction\")\n",
        "    print(end)\n",
        "  return wrapper"
      ],
      "metadata": {
        "id": "UV3wAs9i3iCO"
      },
      "execution_count": 36,
      "outputs": []
    },
    {
      "cell_type": "code",
      "source": [
        "@Decorator\n",
        "def execution_test():\n",
        "  print(\"hello world\")"
      ],
      "metadata": {
        "id": "CXaEd97e3pgm"
      },
      "execution_count": 37,
      "outputs": []
    },
    {
      "cell_type": "code",
      "source": [
        "execution_test()"
      ],
      "metadata": {
        "colab": {
          "base_uri": "https://localhost:8080/"
        },
        "id": "m4j3qcn23r6B",
        "outputId": "9221ffb3-0fdc-4da7-d953-0926e6979d28"
      },
      "execution_count": 38,
      "outputs": [
        {
          "output_type": "stream",
          "name": "stdout",
          "text": [
            "1729930128.6392763\n",
            "before the execution of function\n",
            "hello world\n",
            "after the execution of fuction\n",
            "1729930128.6399844\n"
          ]
        }
      ]
    },
    {
      "cell_type": "markdown",
      "source": [
        "**13. Explain the concept of the Diamond Problem in multiple inheritance. How does Python resolve it?**\n",
        "\n",
        "The Diamond Problem occurs in programming languages that allow multiple inheritance, where a class can inherit from more than one parent class. It is called the \"diamond problem\" because of the shape formed when drawing an inheritance diagram.\n",
        "\n",
        "Here’s a breakdown of the concept:\n",
        "\n",
        "Diamond Problem Explained:\n",
        "Suppose class A is the base class.\n",
        "Two classes B and C inherit from class A.\n",
        "Another class D inherits from both B and C.\n",
        "In this scenario, if class A has a method (e.g., method_A), and class D calls method_A, it becomes ambiguous because the method might have been inherited from either class B or class C. The question arises: which version of method_A should be executed? This is the Diamond Problem.\n",
        "\n",
        "      A\n",
        "     / \\\n",
        "    B   C\n",
        "     \\ /\n",
        "      D\n",
        "**Python's Solution to the Diamond Problem:**\n",
        "\n",
        "\n",
        "Python resolves this problem using a technique called Method Resolution Order (MRO). The MRO defines the order in which base classes are searched when a method or attribute is accessed. Python uses the C3 linearization algorithm (also known as C3 superclass linearization) to determine the order.\n",
        "\n",
        "MRO in Python:\n",
        "\n",
        "The method resolution order is the order in which Python looks for methods or attributes in the class hierarchy. This ensures that each class is only called once and in a specific order, preventing ambiguity."
      ],
      "metadata": {
        "id": "vuw5uZ2d3wpG"
      }
    },
    {
      "cell_type": "code",
      "source": [
        "class A:\n",
        "    def speak(self):\n",
        "        print(\"Class A speaking\")\n",
        "\n",
        "class B(A):\n",
        "    def speak(self):\n",
        "        print(\"Class B speaking\")\n",
        "\n",
        "class C(A):\n",
        "    def speak(self):\n",
        "        print(\"Class C speaking\")\n",
        "\n",
        "class D(B, C):\n",
        "    pass\n",
        "\n",
        "d = D()\n",
        "d.speak()  # Which 'speak' method gets called?\n",
        "print(D.mro())  # Show the method resolution order"
      ],
      "metadata": {
        "colab": {
          "base_uri": "https://localhost:8080/"
        },
        "id": "g8HZKh2Q3ubU",
        "outputId": "0f2e7601-136d-4bca-94e4-79c2fda8d21f"
      },
      "execution_count": 39,
      "outputs": [
        {
          "output_type": "stream",
          "name": "stdout",
          "text": [
            "Class B speaking\n",
            "[<class '__main__.D'>, <class '__main__.B'>, <class '__main__.C'>, <class '__main__.A'>, <class 'object'>]\n"
          ]
        }
      ]
    },
    {
      "cell_type": "markdown",
      "source": [
        "**14. Write a class method that keeps track of the number of instances created from a class?**"
      ],
      "metadata": {
        "id": "9VxFkPYJ4QKH"
      }
    },
    {
      "cell_type": "code",
      "source": [
        "class Method:\n",
        "\n",
        "  count=0\n",
        "  name=None\n",
        "  age=None\n",
        "\n",
        "  def __init__(self,name,age):\n",
        "    self.name=name\n",
        "    self.age=age\n",
        "    Method.count+=1\n",
        "\n",
        "  @classmethod\n",
        "\n",
        "  def __set__m(cls,name,age):\n",
        "    cls.name=name\n",
        "    cls.age=age\n",
        "    cls.count+=1\n",
        "    return cls.count\n",
        "\n",
        "  @classmethod\n",
        "  def count_inst(cls):\n",
        "    return cls.count\n",
        "\n",
        "  @classmethod\n",
        "  def get_m(cls):\n",
        "    return f\"{cls.name} \\n {cls.age}\""
      ],
      "metadata": {
        "id": "kjeAAGy94KUA"
      },
      "execution_count": 40,
      "outputs": []
    },
    {
      "cell_type": "code",
      "source": [
        "m=Method('puppala',23)\n",
        "b=Method('mahesh',24)"
      ],
      "metadata": {
        "id": "JX7BTrJO4XgN"
      },
      "execution_count": 41,
      "outputs": []
    },
    {
      "cell_type": "code",
      "source": [
        "c=Method('mahesh',24)"
      ],
      "metadata": {
        "id": "NLFL_bEb4ZOh"
      },
      "execution_count": 42,
      "outputs": []
    },
    {
      "cell_type": "code",
      "source": [
        "Method.count_inst()"
      ],
      "metadata": {
        "colab": {
          "base_uri": "https://localhost:8080/"
        },
        "id": "XxgQhRhD4bbb",
        "outputId": "2acd197e-1863-402f-a513-e77d320db4d4"
      },
      "execution_count": 43,
      "outputs": [
        {
          "output_type": "execute_result",
          "data": {
            "text/plain": [
              "3"
            ]
          },
          "metadata": {},
          "execution_count": 43
        }
      ]
    },
    {
      "cell_type": "markdown",
      "source": [
        "**15.Implement a static method in a class that checks if a given year is a leap year?**"
      ],
      "metadata": {
        "id": "4DdMV7iy4lPy"
      }
    },
    {
      "cell_type": "code",
      "source": [
        "class Leap:\n",
        "\n",
        "  @staticmethod\n",
        "  def check_leap(year):\n",
        "    if (year % 4 == 0 and year % 100 != 0) or (year % 400 == 0):\n",
        "      return f\"{year} is a leap year\"\n",
        "    else:\n",
        "      return f\"{year} is not a leap year\""
      ],
      "metadata": {
        "id": "P-yjXiCa4dcI"
      },
      "execution_count": 44,
      "outputs": []
    },
    {
      "cell_type": "code",
      "source": [
        "Leap.check_leap(2020)"
      ],
      "metadata": {
        "colab": {
          "base_uri": "https://localhost:8080/",
          "height": 36
        },
        "id": "P28exfsN4qEP",
        "outputId": "a3caa03a-8f88-437e-8bca-481a8d46991f"
      },
      "execution_count": 45,
      "outputs": [
        {
          "output_type": "execute_result",
          "data": {
            "text/plain": [
              "'2020 is a leap year'"
            ],
            "application/vnd.google.colaboratory.intrinsic+json": {
              "type": "string"
            }
          },
          "metadata": {},
          "execution_count": 45
        }
      ]
    },
    {
      "cell_type": "code",
      "source": [],
      "metadata": {
        "id": "tU4QkvSg4r6I"
      },
      "execution_count": null,
      "outputs": []
    }
  ]
}