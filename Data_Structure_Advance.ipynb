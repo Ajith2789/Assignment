{
  "nbformat": 4,
  "nbformat_minor": 0,
  "metadata": {
    "colab": {
      "provenance": []
    },
    "kernelspec": {
      "name": "python3",
      "display_name": "Python 3"
    },
    "language_info": {
      "name": "python"
    }
  },
  "cells": [
    {
      "cell_type": "markdown",
      "source": [
        "**Write a code to reverse a string?**"
      ],
      "metadata": {
        "id": "3NOqDqwRw1fd"
      }
    },
    {
      "cell_type": "code",
      "execution_count": null,
      "metadata": {
        "colab": {
          "base_uri": "https://localhost:8080/"
        },
        "id": "_l3OqSg-wxyD",
        "outputId": "674f3ece-7a8e-403b-ef30-802bddf3b24a"
      },
      "outputs": [
        {
          "output_type": "stream",
          "name": "stdout",
          "text": [
            "Reversed string: !dlroW ,olleH\n"
          ]
        }
      ],
      "source": [
        "def reverse_string(s):\n",
        "    return s[::-1]\n",
        "\n",
        "input_string = \"Hello, World!\"\n",
        "reversed_string = reverse_string(input_string)\n",
        "print(\"Reversed string:\", reversed_string)"
      ]
    },
    {
      "cell_type": "markdown",
      "source": [
        "**Write a code to count the number of vowels in the string?**"
      ],
      "metadata": {
        "id": "eslTk9HgxHbL"
      }
    },
    {
      "cell_type": "code",
      "source": [
        "def count_vowels(s):\n",
        "    vowels = \"aeiouAEIOU\"\n",
        "    count = 0\n",
        "    for char in s:\n",
        "        if char in vowels:\n",
        "            count += 1\n",
        "    return count\n",
        "\n",
        "# Example usage\n",
        "input_string = \"Hello, World!\"\n",
        "vowel_count = count_vowels(input_string)\n",
        "print(\"Number of vowels:\", vowel_count)"
      ],
      "metadata": {
        "colab": {
          "base_uri": "https://localhost:8080/"
        },
        "id": "Qt9hwxDexNh6",
        "outputId": "4a3d0414-d6bb-4e95-9fa4-bbfb91570c1b"
      },
      "execution_count": null,
      "outputs": [
        {
          "output_type": "stream",
          "name": "stdout",
          "text": [
            "Number of vowels: 3\n"
          ]
        }
      ]
    },
    {
      "cell_type": "markdown",
      "source": [
        "** Write a code to check if a given string is a palindrome or not?**"
      ],
      "metadata": {
        "id": "lkQnz79bxYun"
      }
    },
    {
      "cell_type": "code",
      "source": [
        "def is_palindrome(s):\n",
        "    # Remove spaces and convert the string to lowercase\n",
        "    s = s.replace(\" \", \"\").lower()\n",
        "\n",
        "    # Check if the string is equal to its reverse\n",
        "    return s == s[::-1]\n",
        "\n",
        "# Example\n",
        "input_string = \"A man a plan a canal Panama\"\n",
        "if is_palindrome(input_string):\n",
        "    print(f'\"{input_string}\" is a palindrome.')\n",
        "else:\n",
        "    print(f'\"{input_string}\" is not a palindrome.')"
      ],
      "metadata": {
        "colab": {
          "base_uri": "https://localhost:8080/"
        },
        "id": "yIfHeJI8xfwH",
        "outputId": "5c07dac8-fbdf-49f6-d7ad-5bdce2e86f2d"
      },
      "execution_count": null,
      "outputs": [
        {
          "output_type": "stream",
          "name": "stdout",
          "text": [
            "\"A man a plan a canal Panama\" is a palindrome.\n"
          ]
        }
      ]
    },
    {
      "cell_type": "markdown",
      "source": [
        "**Write a code to check if two given strings are anagrams of each other?**"
      ],
      "metadata": {
        "id": "MUfHtFF-xkpC"
      }
    },
    {
      "cell_type": "code",
      "source": [
        "def are_anagrams(str1, str2):\n",
        "    # Remove spaces and convert both strings to lowercase\n",
        "    str1 = str1.replace(\" \", \"\").lower()\n",
        "    str2 = str2.replace(\" \", \"\").lower()\n",
        "\n",
        "    # If the lengths are not equal, they can't be anagrams\n",
        "    if len(str1) != len(str2):\n",
        "        return False\n",
        "\n",
        "    # Create dictionaries to count the frequency of each character\n",
        "    char_count1 = {}\n",
        "    char_count2 = {}\n",
        "\n",
        "    # Count characters in str1 using a for loop\n",
        "    for char in str1:\n",
        "        if char in char_count1:\n",
        "            char_count1[char] += 1\n",
        "        else:\n",
        "            char_count1[char] = 1\n",
        "\n",
        "    # Count characters in str2 using a for loop\n",
        "    for char in str2:\n",
        "        if char in char_count2:\n",
        "            char_count2[char] += 1\n",
        "        else:\n",
        "            char_count2[char] = 1\n",
        "\n",
        "    # Compare the characters in both strings\n",
        "    return char_count1 == char_count2\n",
        "\n",
        "string1 = \"listen\"\n",
        "string2 = \"silent\"\n",
        "\n",
        "if are_anagrams(string1, string2):\n",
        "    print(f'\"{string1}\" and \"{string2}\" are anagrams.')\n",
        "else:\n",
        "    print(f'\"{string1}\" and \"{string2}\" are not anagrams.')"
      ],
      "metadata": {
        "colab": {
          "base_uri": "https://localhost:8080/"
        },
        "id": "xhGS2nYMxuGG",
        "outputId": "7684ebb5-d0d1-4116-f885-5abfe6a58fe3"
      },
      "execution_count": null,
      "outputs": [
        {
          "output_type": "stream",
          "name": "stdout",
          "text": [
            "\"listen\" and \"silent\" are anagrams.\n"
          ]
        }
      ]
    },
    {
      "cell_type": "markdown",
      "source": [
        "**Write a code to find all occurrences of a given substring within another string?**"
      ],
      "metadata": {
        "id": "37hUoyH4yG7c"
      }
    },
    {
      "cell_type": "code",
      "source": [
        "def find_occurrences(main_str, sub_str):\n",
        "    occurrences = []\n",
        "    sub_len = len(sub_str)\n",
        "\n",
        "    # Loop through the main string\n",
        "    for i in range(len(main_str) - sub_len + 1):\n",
        "        # Check if the substring matches the current slice of the main string\n",
        "        if main_str[i:i + sub_len] == sub_str:\n",
        "            occurrences.append(i)\n",
        "\n",
        "    return occurrences\n",
        "\n",
        "# Example\n",
        "main_string = \"banana\"\n",
        "substring = \"ana\"\n",
        "\n",
        "positions = find_occurrences(main_string, substring)\n",
        "if positions:\n",
        "    print(f'Substring \"{substring}\" found at positions: {positions}')\n",
        "else:\n",
        "    print(f'Substring \"{substring}\" not found.')"
      ],
      "metadata": {
        "colab": {
          "base_uri": "https://localhost:8080/"
        },
        "id": "pJcoj0SMyP7L",
        "outputId": "28712028-0abb-40bd-cf08-04d99537d365"
      },
      "execution_count": null,
      "outputs": [
        {
          "output_type": "stream",
          "name": "stdout",
          "text": [
            "Substring \"ana\" found at positions: [1, 3]\n"
          ]
        }
      ]
    },
    {
      "cell_type": "markdown",
      "source": [
        "**Write a code to perform basic string compression using the counts of repeated characters?**"
      ],
      "metadata": {
        "id": "9GFutik3yYMW"
      }
    },
    {
      "cell_type": "code",
      "source": [
        "def compress_string(s):\n",
        "    compressed = \"\"\n",
        "    count = 1\n",
        "\n",
        "    # Loop through the string\n",
        "    for i in range(1, len(s)):\n",
        "        if s[i] == s[i - 1]:\n",
        "            count += 1\n",
        "        else:\n",
        "            compressed += s[i - 1] + str(count)\n",
        "            count = 1  # Reset count for new character\n",
        "\n",
        "    # Append the last character and its count\n",
        "    compressed += s[-1] + str(count)\n",
        "\n",
        "    # Return the compressed string only if it's shorter, otherwise return the original string\n",
        "    return compressed if len(compressed) < len(s) else s\n",
        "\n",
        "# Example usage\n",
        "input_string = \"aabcccccaaa\"\n",
        "compressed_string = compress_string(input_string)\n",
        "print(\"Compressed string:\", compressed_string)"
      ],
      "metadata": {
        "colab": {
          "base_uri": "https://localhost:8080/"
        },
        "id": "YS5EJ2vXygJj",
        "outputId": "69df49a0-c20c-41a4-9bf6-f0926f1d22a7"
      },
      "execution_count": null,
      "outputs": [
        {
          "output_type": "stream",
          "name": "stdout",
          "text": [
            "Compressed string: a2b1c5a3\n"
          ]
        }
      ]
    },
    {
      "cell_type": "markdown",
      "source": [
        "**Write a code to determine if a string has all unique characters?**"
      ],
      "metadata": {
        "id": "m1hk6duEyowd"
      }
    },
    {
      "cell_type": "code",
      "source": [
        "def has_unique_chars(string):\n",
        "    char_set = set()\n",
        "\n",
        "    for char in string:\n",
        "        if char in char_set:\n",
        "            return False\n",
        "        char_set.add(char)\n",
        "    return True\n",
        "\n",
        "# Test\n",
        "test_string = \"abcdefg\"\n",
        "print(has_unique_chars(test_string))  # Output: True\n",
        "\n",
        "test_string = \"hello\"\n",
        "print(has_unique_chars(test_string))  # Output: False"
      ],
      "metadata": {
        "colab": {
          "base_uri": "https://localhost:8080/"
        },
        "id": "loiVorvYytZb",
        "outputId": "fd4bdaef-bcbe-494a-e16b-38915ad3428c"
      },
      "execution_count": null,
      "outputs": [
        {
          "output_type": "stream",
          "name": "stdout",
          "text": [
            "True\n",
            "False\n"
          ]
        }
      ]
    },
    {
      "cell_type": "markdown",
      "source": [
        "**Write a code to convert a given string to uppercase or lowercase?**"
      ],
      "metadata": {
        "id": "aM_euZmhyzbw"
      }
    },
    {
      "cell_type": "code",
      "source": [
        "def convert_case(string, to_upper=True):\n",
        "    if to_upper:\n",
        "        # Convert the string to uppercase\n",
        "        return string.upper()\n",
        "    else:\n",
        "        # Convert the string to lowercase\n",
        "        return string.lower()\n",
        "\n",
        "# Test\n",
        "test_string = \"Hello World!\"\n",
        "\n",
        "# Convert to uppercase\n",
        "print(convert_case(test_string, to_upper=True))  # Output: \"HELLO WORLD!\"\n",
        "\n",
        "# Convert to lowercase\n",
        "print(convert_case(test_string, to_upper=False))  # Output: \"hello world!\"\n"
      ],
      "metadata": {
        "colab": {
          "base_uri": "https://localhost:8080/"
        },
        "id": "Q0tsbj0yy9YK",
        "outputId": "91a64337-acb7-47cb-d4a6-0086e3d94a0a"
      },
      "execution_count": null,
      "outputs": [
        {
          "output_type": "stream",
          "name": "stdout",
          "text": [
            "HELLO WORLD!\n",
            "hello world!\n"
          ]
        }
      ]
    },
    {
      "cell_type": "markdown",
      "source": [
        "**Write a code to count the number of words in a string?**"
      ],
      "metadata": {
        "id": "F1N9DlbWzJfC"
      }
    },
    {
      "cell_type": "code",
      "source": [
        "a=\"hi hello ajju\"\n",
        "b=a.split()\n",
        "print(len(b))"
      ],
      "metadata": {
        "colab": {
          "base_uri": "https://localhost:8080/"
        },
        "id": "ImPftsQDzNVR",
        "outputId": "cf388e0e-6d48-43ba-f8f7-629fcc9aa686"
      },
      "execution_count": null,
      "outputs": [
        {
          "output_type": "stream",
          "name": "stdout",
          "text": [
            "3\n"
          ]
        }
      ]
    },
    {
      "cell_type": "markdown",
      "source": [
        "**Write a code to concatenate two strings without using the + operator?**"
      ],
      "metadata": {
        "id": "wAz3RTkrzVF7"
      }
    },
    {
      "cell_type": "code",
      "source": [
        "def concatenate_strings(string1, string2):\n",
        "    return \"{}{}\".format(string1, string2)\n",
        "str1 = \"Hello\"\n",
        "str2 = \"World\"\n",
        "print(concatenate_strings(str1, str2))  # Output: HelloWorld\n"
      ],
      "metadata": {
        "colab": {
          "base_uri": "https://localhost:8080/"
        },
        "id": "9H6ik4HJzZzV",
        "outputId": "6383794c-72d9-40bd-fbdd-3c3b78a179f8"
      },
      "execution_count": null,
      "outputs": [
        {
          "output_type": "stream",
          "name": "stdout",
          "text": [
            "HelloWorld\n"
          ]
        }
      ]
    },
    {
      "cell_type": "markdown",
      "source": [
        "**Write a code to remove all occurrences of a specific element from a list?**"
      ],
      "metadata": {
        "id": "HWh8b6DwziUm"
      }
    },
    {
      "cell_type": "code",
      "source": [
        "def remove_occurrences(lst, element):\n",
        "    return [item for item in lst if item != element]\n",
        "test_list = [1, 2, 3, 4, 2, 5, 2]\n",
        "element_to_remove = 2\n",
        "\n",
        "result = remove_occurrences(test_list, element_to_remove)\n",
        "print(result)  # Output: [1, 3, 4, 5]"
      ],
      "metadata": {
        "colab": {
          "base_uri": "https://localhost:8080/"
        },
        "id": "NKMBqPYrzquX",
        "outputId": "194a782f-6357-4e1c-aa74-0db2dc5f1a98"
      },
      "execution_count": null,
      "outputs": [
        {
          "output_type": "stream",
          "name": "stdout",
          "text": [
            "[1, 3, 4, 5]\n"
          ]
        }
      ]
    },
    {
      "cell_type": "markdown",
      "source": [
        "**Implement a code to find the second largest number in a given list of integers?**"
      ],
      "metadata": {
        "id": "OBpAZ2HDzwMG"
      }
    },
    {
      "cell_type": "code",
      "source": [
        "list = [10, 20, 4, 45, 99, 99, 20]\n",
        "list.sort()\n",
        "print(list[2])"
      ],
      "metadata": {
        "colab": {
          "base_uri": "https://localhost:8080/"
        },
        "id": "_amW4ckxz4Zs",
        "outputId": "f4ab71d2-da66-48fa-ebda-59a952162b90"
      },
      "execution_count": null,
      "outputs": [
        {
          "output_type": "stream",
          "name": "stdout",
          "text": [
            "20\n"
          ]
        }
      ]
    },
    {
      "cell_type": "markdown",
      "source": [
        "**Create a code to count the occurrences of each element in a list and return a dictionary with elements as keys and their counts as values?**"
      ],
      "metadata": {
        "id": "0yJrgSXxz88W"
      }
    },
    {
      "cell_type": "code",
      "source": [
        "def count_occurrences(lst):\n",
        "    # Create an empty dictionary to store the counts\n",
        "    counts = {}\n",
        "    for element in lst:\n",
        "        if element in counts:\n",
        "            counts[element] += 1\n",
        "        else:\n",
        "            counts[element] = 1\n",
        "\n",
        "    return counts\n",
        "test_list = [1, 2, 2, 3, 4, 4, 4, 5, 1]\n",
        "result = count_occurrences(test_list)\n",
        "print(result)  # Output: {1: 2, 2: 2, 3: 1, 4: 3, 5: 1}"
      ],
      "metadata": {
        "colab": {
          "base_uri": "https://localhost:8080/"
        },
        "id": "eozP1oW6z7VD",
        "outputId": "ac458a9c-26f0-4029-b055-02e2ab17fcf3"
      },
      "execution_count": null,
      "outputs": [
        {
          "output_type": "stream",
          "name": "stdout",
          "text": [
            "{1: 2, 2: 2, 3: 1, 4: 3, 5: 1}\n"
          ]
        }
      ]
    },
    {
      "cell_type": "markdown",
      "source": [
        "**Write a code to reverse a list in-place without using any built-in reverse functions?**"
      ],
      "metadata": {
        "id": "nykT_Amk0Iw6"
      }
    },
    {
      "cell_type": "code",
      "source": [
        "def reverse_list(lst):\n",
        "    for i in range(len(lst) // 2):\n",
        "        temp = lst[i]\n",
        "        lst[i] = lst[-(i + 1)]\n",
        "        lst[-(i + 1)] = temp\n",
        "\n",
        "test_list = [1, 2, 3, 4, 5]\n",
        "reverse_list(test_list)\n",
        "print(test_list)  # Output: [5, 4, 3, 2, 1]\n"
      ],
      "metadata": {
        "colab": {
          "base_uri": "https://localhost:8080/"
        },
        "id": "FlrQYnCS0OwN",
        "outputId": "07e54cae-e7b9-4d67-8774-dc594903a705"
      },
      "execution_count": null,
      "outputs": [
        {
          "output_type": "stream",
          "name": "stdout",
          "text": [
            "[5, 4, 3, 2, 1]\n"
          ]
        }
      ]
    },
    {
      "cell_type": "markdown",
      "source": [
        "**Implement a code to find and remove duplicates from a list while preserving the original order of elements?**"
      ],
      "metadata": {
        "id": "VXoyc3i00k0r"
      }
    },
    {
      "cell_type": "code",
      "source": [
        "def remove_duplicates(lst):\n",
        "    seen = set()\n",
        "    result = []\n",
        "\n",
        "    for item in lst:\n",
        "        if item not in seen:\n",
        "            result.append(item)\n",
        "            seen.add(item)\n",
        "\n",
        "    return result\n",
        "\n",
        "test_list = [1, 2, 2, 3, 4, 4, 5, 1]\n",
        "result = remove_duplicates(test_list)\n",
        "print(result)  # Output: [1, 2, 3, 4, 5]"
      ],
      "metadata": {
        "colab": {
          "base_uri": "https://localhost:8080/"
        },
        "id": "WDwbRPuQ0qCZ",
        "outputId": "72a38eed-05a0-42e4-82a1-f3aa58ef7d49"
      },
      "execution_count": null,
      "outputs": [
        {
          "output_type": "stream",
          "name": "stdout",
          "text": [
            "[1, 2, 3, 4, 5]\n"
          ]
        }
      ]
    },
    {
      "cell_type": "markdown",
      "source": [
        "**Create a code to check if a given list is sorted (either in ascending or descending order) or not?**"
      ],
      "metadata": {
        "id": "DZfnZVt-0yQr"
      }
    },
    {
      "cell_type": "code",
      "source": [
        "def is_sorted(lst):\n",
        "    ascending = True\n",
        "    descending = True\n",
        "\n",
        "    for i in range(len(lst) - 1):\n",
        "        if lst[i] > lst[i + 1]:\n",
        "            ascending = False\n",
        "        if lst[i] < lst[i + 1]:\n",
        "            descending = False\n",
        "\n",
        "    return ascending or descending\n",
        "\n",
        "test_list = [1, 2, 3, 4, 5]\n",
        "print(is_sorted(test_list))  # Output: True (ascending)\n",
        "\n",
        "test_list = [5, 4, 3, 2, 1]\n",
        "print(is_sorted(test_list))  # Output: True (descending)\n",
        "\n",
        "test_list = [3, 1, 4, 2]\n",
        "print(is_sorted(test_list))  # Output: False (not sorted)\n"
      ],
      "metadata": {
        "colab": {
          "base_uri": "https://localhost:8080/"
        },
        "id": "fiU9OpCj08CN",
        "outputId": "3dea7182-f08f-4a62-c2a4-f85239f8e089"
      },
      "execution_count": null,
      "outputs": [
        {
          "output_type": "stream",
          "name": "stdout",
          "text": [
            "True\n",
            "True\n",
            "False\n"
          ]
        }
      ]
    },
    {
      "cell_type": "markdown",
      "source": [
        "**Write a code to merge two sorted lists into a single sorted list?**"
      ],
      "metadata": {
        "id": "4DPdMCHV1EOg"
      }
    },
    {
      "cell_type": "code",
      "source": [
        "l1 = [1, 3, 5, 7]\n",
        "l2 = [2, 4, 6, 8]\n",
        "l3=l1+l2\n",
        "l3.sort()\n",
        "print(l3)"
      ],
      "metadata": {
        "colab": {
          "base_uri": "https://localhost:8080/"
        },
        "id": "OuRshVAt1Ig7",
        "outputId": "6c929875-7fb5-46ed-c665-402cabd09a6d"
      },
      "execution_count": null,
      "outputs": [
        {
          "output_type": "stream",
          "name": "stdout",
          "text": [
            "[1, 2, 3, 4, 5, 6, 7, 8]\n"
          ]
        }
      ]
    },
    {
      "cell_type": "markdown",
      "source": [
        "**Implement a code to find the intersection of two given lists?**"
      ],
      "metadata": {
        "id": "wnsKkTOo1Vv6"
      }
    },
    {
      "cell_type": "code",
      "source": [
        "def list_intersection(list1, list2):\n",
        "    result = []\n",
        "    for item in list1:\n",
        "        if item in list2:\n",
        "            result.append(item)\n",
        "    return result\n",
        "\n",
        "list1 = [1, 2, 3, 4, 5]\n",
        "list2 = [4, 5, 6, 7, 8]\n",
        "result = list_intersection(list1, list2)\n",
        "print(result)  # Output: [4, 5]"
      ],
      "metadata": {
        "colab": {
          "base_uri": "https://localhost:8080/"
        },
        "id": "pTrNAqaY1K3N",
        "outputId": "f85e8aef-fddf-472a-f5b6-f3e84798ee83"
      },
      "execution_count": null,
      "outputs": [
        {
          "output_type": "stream",
          "name": "stdout",
          "text": [
            "[4, 5]\n"
          ]
        }
      ]
    },
    {
      "cell_type": "markdown",
      "source": [
        "**Create a code to find the union of two lists without duplicates?**"
      ],
      "metadata": {
        "id": "K_sH9l9D1hQE"
      }
    },
    {
      "cell_type": "code",
      "source": [
        "def list_union(list1, list2):\n",
        "    return set(list1).union(set(list2))\n",
        "\n",
        "list1 = [1, 2, 3, 4, 5]\n",
        "list2 = [4, 5, 6, 7, 8]\n",
        "result = list_union(list1, list2)\n",
        "print(result)  # Output: [1, 2, 3, 4, 5, 6, 7, 8]"
      ],
      "metadata": {
        "colab": {
          "base_uri": "https://localhost:8080/"
        },
        "id": "G4nAb-NF1eFt",
        "outputId": "deaa235a-d849-4340-c0d3-f79403158743"
      },
      "execution_count": null,
      "outputs": [
        {
          "output_type": "stream",
          "name": "stdout",
          "text": [
            "{1, 2, 3, 4, 5, 6, 7, 8}\n"
          ]
        }
      ]
    },
    {
      "cell_type": "markdown",
      "source": [
        "**Create a code that prompts the user to enter two sets of integers separated by commas. Then, print the intersection of these two sets?**"
      ],
      "metadata": {
        "id": "130ni4gr1mwY"
      }
    },
    {
      "cell_type": "code",
      "source": [
        "def get_intersection():\n",
        "    set1_input = input(\"Enter the first set of integers (separated by commas): \")\n",
        "    set2_input = input(\"Enter the second set of integers (separated by commas): \")\n",
        "\n",
        "    # Convert input strings to sets of integers\n",
        "    set1 = set(map(int, set1_input.split(',')))\n",
        "    set2 = set(map(int, set2_input.split(',')))\n",
        "\n",
        "    # Find and print the intersection\n",
        "    intersection = set1 & set2\n",
        "    print(\"Intersection:\", intersection)\n",
        "\n",
        "# Run the function\n",
        "get_intersection()"
      ],
      "metadata": {
        "colab": {
          "base_uri": "https://localhost:8080/"
        },
        "id": "aeCznR0j1mBn",
        "outputId": "d6804628-b290-4c35-9b6c-b7bcada816f0"
      },
      "execution_count": null,
      "outputs": [
        {
          "output_type": "stream",
          "name": "stdout",
          "text": [
            "Enter the first set of integers (separated by commas): 2,3,5\n",
            "Enter the second set of integers (separated by commas): 1,2,8\n",
            "Intersection: {2}\n"
          ]
        }
      ]
    },
    {
      "cell_type": "markdown",
      "source": [
        "**Write a code to concatenate two tuples. The function should take two tuples as input and return a new tuple containing elements from both input tuples?**"
      ],
      "metadata": {
        "id": "w3G-gs-k16ls"
      }
    },
    {
      "cell_type": "code",
      "source": [
        "def concatenate_tuples(tuple1, tuple2):\n",
        "    # Concatenate the two tuples\n",
        "    result = tuple1 + tuple2\n",
        "    return result\n",
        "\n",
        "# Test the function\n",
        "tuple1 = (1, 2, 3)\n",
        "tuple2 = (4, 5, 6)\n",
        "result = concatenate_tuples(tuple1, tuple2)\n",
        "print(result)  # Output: (1, 2, 3, 4, 5, 6)"
      ],
      "metadata": {
        "colab": {
          "base_uri": "https://localhost:8080/"
        },
        "id": "-z96UPiO2CdF",
        "outputId": "25c4d57f-58c6-4298-8c68-4fb0ce8a8d6d"
      },
      "execution_count": null,
      "outputs": [
        {
          "output_type": "stream",
          "name": "stdout",
          "text": [
            "(1, 2, 3, 4, 5, 6)\n"
          ]
        }
      ]
    },
    {
      "cell_type": "markdown",
      "source": [
        "**Develop a code that prompts the user to input two sets of strings. Then, print the elements that are present in the first set but not in the second set?**"
      ],
      "metadata": {
        "id": "qgS3EIYH2MAR"
      }
    },
    {
      "cell_type": "code",
      "source": [
        "def difference_of_sets():\n",
        "    set1_input = input(\"Enter the first set of strings (separated by commas): \")\n",
        "    set2_input = input(\"Enter the second set of strings (separated by commas): \")\n",
        "\n",
        "    # Convert input strings to sets of strings\n",
        "    set1 = set(set1_input.split(','))\n",
        "    set2 = set(set2_input.split(','))\n",
        "\n",
        "    # Find elements in set1 that are not in set2\n",
        "    difference = set1 - set2\n",
        "\n",
        "    # Print the result\n",
        "    print(\"Elements present in the first set but not in the second set:\", difference)\n",
        "\n",
        "# Run the function\n",
        "difference_of_sets()"
      ],
      "metadata": {
        "colab": {
          "base_uri": "https://localhost:8080/"
        },
        "id": "seeUWv7U2XES",
        "outputId": "8aca84d5-399d-4c8f-d68c-ef391712e840"
      },
      "execution_count": null,
      "outputs": [
        {
          "output_type": "stream",
          "name": "stdout",
          "text": [
            "Enter the first set of strings (separated by commas): 1,2,4\n",
            "Enter the second set of strings (separated by commas): 2,3,4\n",
            "Elements present in the first set but not in the second set: {'1'}\n"
          ]
        }
      ]
    },
    {
      "cell_type": "markdown",
      "source": [
        "**Create a code that takes a tuple and two integers as input. The function should return a new tuple containing elements from the original tuple within the specified range of indices?**"
      ],
      "metadata": {
        "id": "71hLIS6T2jMl"
      }
    },
    {
      "cell_type": "code",
      "source": [
        "def slice_tuple(original_tuple, start_index, end_index):\n",
        "    return original_tuple[start_index:end_index]\n",
        "\n",
        "numbers = (10, 20, 30, 40, 50, 60, 70, 80)\n",
        "start = 2\n",
        "end = 5\n",
        "\n",
        "new_tuple = slice_tuple(numbers, start, end)\n",
        "print(f\"New tuple: {new_tuple}\")"
      ],
      "metadata": {
        "colab": {
          "base_uri": "https://localhost:8080/"
        },
        "id": "pKq3vLbF2sn5",
        "outputId": "3b742423-a729-4bfb-9ac7-679d8cf5f008"
      },
      "execution_count": null,
      "outputs": [
        {
          "output_type": "stream",
          "name": "stdout",
          "text": [
            "New tuple: (30, 40, 50)\n"
          ]
        }
      ]
    },
    {
      "cell_type": "markdown",
      "source": [
        "**Write a code that prompts the user to input two sets of characters. Then, print the union of these two sets?**"
      ],
      "metadata": {
        "id": "jDNXrR2P2yhz"
      }
    },
    {
      "cell_type": "code",
      "source": [
        "def input_and_union_sets():\n",
        "    set1 = set(input(\"Enter the first set of characters (without spaces): \"))\n",
        "    set2 = set(input(\"Enter the second set of characters (without spaces): \"))\n",
        "\n",
        "    union_set = set1.union(set2)\n",
        "    print(f\"Union of the two sets: {union_set}\")\n",
        "\n",
        "input_and_union_sets()"
      ],
      "metadata": {
        "colab": {
          "base_uri": "https://localhost:8080/"
        },
        "id": "_Z0tDmUP2v5J",
        "outputId": "83dda722-a4cc-412e-df5f-3151cb559a5b"
      },
      "execution_count": null,
      "outputs": [
        {
          "output_type": "stream",
          "name": "stdout",
          "text": [
            "Enter the first set of characters (without spaces): abcd\n",
            "Enter the second set of characters (without spaces): abce\n",
            "Union of the two sets: {'c', 'd', 'b', 'a', 'e'}\n"
          ]
        }
      ]
    },
    {
      "cell_type": "markdown",
      "source": [
        "**Develop a code that takes a tuple of integers as input. The function should return the maximum and minimum values from the tuple using tuple unpacking?**"
      ],
      "metadata": {
        "id": "6QXcCcJl3UDw"
      }
    },
    {
      "cell_type": "code",
      "source": [
        "def find_min_max(numbers):\n",
        "    min_val, max_val = numbers[0], numbers[0]\n",
        "    for num in numbers[1:]:\n",
        "        if num < min_val:\n",
        "            min_val = num\n",
        "        if num > max_val:\n",
        "            max_val = num\n",
        "\n",
        "    return min_val, max_val\n",
        "numbers = (10, 4, 23, 56, 1, -5, 34)\n",
        "min_value, max_value = find_min_max(numbers)\n",
        "print(f\"Minimum value: {min_value}, Maximum value: {max_value}\")"
      ],
      "metadata": {
        "colab": {
          "base_uri": "https://localhost:8080/"
        },
        "id": "ephELNxl261t",
        "outputId": "44a76781-9ba1-40c6-8295-5eab71967742"
      },
      "execution_count": null,
      "outputs": [
        {
          "output_type": "stream",
          "name": "stdout",
          "text": [
            "Minimum value: -5, Maximum value: 56\n"
          ]
        }
      ]
    },
    {
      "cell_type": "markdown",
      "source": [
        "**write a code to shuffle a given list randomly  without using any builtin random functions?**"
      ],
      "metadata": {
        "id": "Si70orzU3lqy"
      }
    },
    {
      "cell_type": "code",
      "source": [
        "def shuffle_list(lst):\n",
        "    n = len(lst)\n",
        "    for i in range(n - 1, 0, -1):\n",
        "        j = (i * (i + 7)) % n\n",
        "\n",
        "        # Swapping\n",
        "        lst[i], lst[j] = lst[j], lst[i]\n",
        "\n",
        "    return lst\n",
        "my_list = [1, 2, 3, 4, 5, 6, 7, 8]\n",
        "shuffled_list = shuffle_list(my_list.copy())  # Copy to avoid modifying original list\n",
        "print(f\"Shuffled list: {shuffled_list}\")"
      ],
      "metadata": {
        "colab": {
          "base_uri": "https://localhost:8080/"
        },
        "id": "2pI0Nbsg3rqC",
        "outputId": "be72250b-2f12-47cb-ef41-294d1f23ba2b"
      },
      "execution_count": null,
      "outputs": [
        {
          "output_type": "stream",
          "name": "stdout",
          "text": [
            "Shuffled list: [2, 1, 8, 7, 6, 5, 4, 3]\n"
          ]
        }
      ]
    },
    {
      "cell_type": "markdown",
      "source": [
        "**Create a code that defines two sets of integers. Then, print the union, intersection, and difference of these two sets?**"
      ],
      "metadata": {
        "id": "dOp7YRkT39t5"
      }
    },
    {
      "cell_type": "code",
      "source": [
        "set1 = {1, 2, 3, 4, 5}\n",
        "set2 = {4, 5, 6, 7, 8}\n",
        "union_set = set1.union(set2)\n",
        "intersection_set = set1.intersection(set2)\n",
        "difference_set = set1.difference(set2)\n",
        "print(f\"Set 1: {set1}\")\n",
        "print(f\"Set 2: {set2}\")\n",
        "print(f\"Union: {union_set}\")\n",
        "print(f\"Intersection: {intersection_set}\")\n",
        "print(f\"Difference (Set 1 - Set 2): {difference_set}\")"
      ],
      "metadata": {
        "colab": {
          "base_uri": "https://localhost:8080/"
        },
        "id": "sqfYW-UQ4FYx",
        "outputId": "21ed1a1a-06d2-4ea8-d98e-7d1cd119da28"
      },
      "execution_count": null,
      "outputs": [
        {
          "output_type": "stream",
          "name": "stdout",
          "text": [
            "Set 1: {1, 2, 3, 4, 5}\n",
            "Set 2: {4, 5, 6, 7, 8}\n",
            "Union: {1, 2, 3, 4, 5, 6, 7, 8}\n",
            "Intersection: {4, 5}\n",
            "Difference (Set 1 - Set 2): {1, 2, 3}\n"
          ]
        }
      ]
    },
    {
      "cell_type": "markdown",
      "source": [
        "**Write a code that takes a tuple and an element as input. The function should return the count of occurrences of the given element in the tuple?**"
      ],
      "metadata": {
        "id": "hXl9NbNJ4RdJ"
      }
    },
    {
      "cell_type": "code",
      "source": [
        "def count_element_in_tuple(input_tuple, element):\n",
        "    return input_tuple.count(element)\n",
        "numbers = (1, 2, 3, 4, 2, 5, 2, 6)\n",
        "element = 2\n",
        "\n",
        "count = count_element_in_tuple(numbers, element)\n",
        "print(f\"The element {element} appears {count} times in the tuple.\")"
      ],
      "metadata": {
        "colab": {
          "base_uri": "https://localhost:8080/"
        },
        "id": "Gr_vEJ634XAA",
        "outputId": "4bb59263-d6dd-4ba0-b653-9feb531489ba"
      },
      "execution_count": null,
      "outputs": [
        {
          "output_type": "stream",
          "name": "stdout",
          "text": [
            "The element 2 appears 3 times in the tuple.\n"
          ]
        }
      ]
    },
    {
      "cell_type": "markdown",
      "source": [
        "**30Develop a code that prompts the user to input two sets of strings. Then, print the symmetric difference of these two sets?**"
      ],
      "metadata": {
        "id": "6vYf04d44cJF"
      }
    },
    {
      "cell_type": "code",
      "source": [
        "def input_and_symmetric_difference():\n",
        "    set1 = set(input(\"Enter the first set of strings (separate by spaces): \").split())\n",
        "    set2 = set(input(\"Enter the second set of strings (separate by spaces): \").split())\n",
        "    sym_diff_set = set1.symmetric_difference(set2)\n",
        "\n",
        "    print(f\"Symmetric difference: {sym_diff_set}\")\n",
        "input_and_symmetric_difference()"
      ],
      "metadata": {
        "id": "eAwIK3B64kHp"
      },
      "execution_count": null,
      "outputs": []
    },
    {
      "cell_type": "markdown",
      "source": [
        "**Write a code that takes a list of words as input and returns a dictionary where the keys are unique words and the values are the frequencies of those words in the input list?**"
      ],
      "metadata": {
        "id": "Akeu-J5i4vc0"
      }
    },
    {
      "cell_type": "code",
      "source": [
        "def word_frequencies(word_list):\n",
        "    frequency_dict = {}\n",
        "    for word in word_list:\n",
        "        if word in frequency_dict:\n",
        "            frequency_dict[word] += 1\n",
        "        else:\n",
        "            frequency_dict[word] = 1\n",
        "\n",
        "    return frequency_dict\n",
        "words = input(\"Enter a list of words separated by spaces: \").split()\n",
        "\n",
        "word_count = word_frequencies(words)\n",
        "print(f\"Word frequencies: {word_count}\")"
      ],
      "metadata": {
        "id": "H_ZUKQo84mtH"
      },
      "execution_count": null,
      "outputs": []
    },
    {
      "cell_type": "markdown",
      "source": [
        "**Write a code that takes two dictionaries as input and merges them into a single dictionary. If there are common keys, the values should be added together?**"
      ],
      "metadata": {
        "id": "vPTsle955Lcb"
      }
    },
    {
      "cell_type": "code",
      "source": [
        "def merge_dictionaries(dict1, dict2):\n",
        "    merged_dict = dict1.copy()\n",
        "    for key, value in dict2.items():\n",
        "        if key in merged_dict:\n",
        "            merged_dict[key] += value\n",
        "        else:\n",
        "            merged_dict[key] = value\n",
        "\n",
        "    return merged_dict\n",
        "dict1 = {'apple': 3, 'banana': 2, 'orange': 1}\n",
        "dict2 = {'banana': 1, 'pear': 4, 'orange': 2}\n",
        "\n",
        "merged_dict = merge_dictionaries(dict1, dict2)\n",
        "print(f\"Merged dictionary: {merged_dict}\")"
      ],
      "metadata": {
        "id": "PxFntzfR5Upr"
      },
      "execution_count": null,
      "outputs": []
    },
    {
      "cell_type": "markdown",
      "source": [
        "**Write a code to access a value in a nested dictionary. The function should take the dictionary and a list of keys as input, and return the corresponding value. If any of the keys do not exist in the dictionary, the function should return None?**"
      ],
      "metadata": {
        "id": "dFqAOENn5diT"
      }
    },
    {
      "cell_type": "code",
      "source": [
        "def get_nested_value(nested_dict, keys):\n",
        "    # Start with the input dictionary\n",
        "    current_value = nested_dict\n",
        "\n",
        "    # Iterate over the list of keys\n",
        "    for key in keys:\n",
        "        # Check if the key exists in the current level of the dictionary\n",
        "        if key in current_value:\n",
        "            current_value = current_value[key]\n",
        "        else:\n",
        "            # If any key is missing, return None\n",
        "            return None\n",
        "\n",
        "    # Return the final value if all keys exist\n",
        "    return current_value\n",
        "\n",
        "# Example usage\n",
        "nested_dict = {\n",
        "    'a': {\n",
        "        'b': {\n",
        "            'c': 42\n",
        "        },\n",
        "        'd': 7\n",
        "    }\n",
        "}\n",
        "\n",
        "keys = ['a', 'b', 'c']\n",
        "result = get_nested_value(nested_dict, keys)\n",
        "print(f\"Value for keys {keys}: {result}\")  # Output: 42\n",
        "\n",
        "keys_missing = ['a', 'x', 'y']\n",
        "result_missing = get_nested_value(nested_dict, keys_missing)\n",
        "print(f\"Value for keys {keys_missing}: {result_missing}\")  # Output: None\n"
      ],
      "metadata": {
        "id": "i8IevnPY5klB"
      },
      "execution_count": null,
      "outputs": []
    },
    {
      "cell_type": "markdown",
      "source": [
        "**Write a code that takes a dictionary as input and returns a sorted version of it based on the values. You can choose whether to sort in ascending or descending order?**"
      ],
      "metadata": {
        "id": "0JMLJeZL5v3K"
      }
    },
    {
      "cell_type": "code",
      "source": [
        "def sort_dictionary_by_values(input_dict, ascending=True):\n",
        "    sorted_dict = dict(sorted(input_dict.items(), key=lambda item: item[1], reverse=not ascending))\n",
        "    return sorted_dict\n",
        "example_dict = {'apple': 3, 'banana': 1, 'orange': 2, 'pear': 5}\n",
        "sorted_dict_asc = sort_dictionary_by_values(example_dict, ascending=True)\n",
        "print(f\"Sorted dictionary (ascending): {sorted_dict_asc}\")\n",
        "sorted_dict_desc = sort_dictionary_by_values(example_dict, ascending=False)\n",
        "print(f\"Sorted dictionary (descending): {sorted_dict_desc}\")"
      ],
      "metadata": {
        "id": "r0MNpu8h54tn"
      },
      "execution_count": null,
      "outputs": []
    },
    {
      "cell_type": "markdown",
      "source": [
        "**Write a code that inverts a dictionary, swapping keys and values. Ensure that the inverted dictionary?**"
      ],
      "metadata": {
        "id": "mP8_1qIo6FVL"
      }
    },
    {
      "cell_type": "code",
      "source": [
        "#correctly handles cases where multiple keys have the same value by storing the keys as a list in the  inverted dictionary.\n",
        "def invert_dictionary(original_dict):\n",
        "    inverted_dict = {}\n",
        "    for key, value in original_dict.items():\n",
        "        # If the value is already a key in the inverted dictionary, append the current key to the list\n",
        "        if value in inverted_dict:\n",
        "            inverted_dict[value].append(key)\n",
        "        else:\n",
        "            # Otherwise, create a new list with the current key\n",
        "            inverted_dict[value] = [key]\n",
        "\n",
        "    return inverted_dict\n",
        "original_dict = {'a': 1, 'b': 2, 'c': 1, 'd': 3}\n",
        "\n",
        "inverted_dict = invert_dictionary(original_dict)\n",
        "print(f\"Inverted dictionary: {inverted_dict}\")"
      ],
      "metadata": {
        "id": "84ZMXwjh6jy0"
      },
      "execution_count": null,
      "outputs": []
    },
    {
      "cell_type": "code",
      "source": [],
      "metadata": {
        "id": "EW0KWce69ImR"
      },
      "execution_count": null,
      "outputs": []
    }
  ]
}