{
  "nbformat": 4,
  "nbformat_minor": 0,
  "metadata": {
    "colab": {
      "provenance": []
    },
    "kernelspec": {
      "name": "python3",
      "display_name": "Python 3"
    },
    "language_info": {
      "name": "python"
    }
  },
  "cells": [
    {
      "cell_type": "markdown",
      "source": [
        " **1.Explain the purpose and advantages of NumPy in scientific computing and data analysis. How does it\n",
        "enhance Python's capabilities for numerical operation?**\n",
        "\n",
        "\n",
        "**NumPy is a powerful Python library for numerical computing, widely used in scientific computing and data analysis due to its efficiency and functionality.** At its core, NumPy provides support for large, multi-dimensional arrays and matrices, along with a vast collection of mathematical functions to operate on these arrays.\n",
        "\n",
        "**Purpose and Advantages:**\n",
        "\n",
        "**Efficient Data Storage and Manipulation:** NumPy arrays (ndarrays) are more memory-efficient than Python lists, allowing for faster data processing, especially with large datasets.\n",
        "\n",
        "**Mathematical Operations:** It enables fast and efficient mathematical operations on arrays, including element-wise operations and complex linear algebra, which are foundational in data analysis and scientific computing.\n",
        "\n",
        "**Broad Functionality:** With functions for random number generation, statistical calculations, Fourier transforms, and more, NumPy is highly versatile for both basic and advanced mathematical tasks.\n",
        "\n",
        "**Interoperability:** NumPy seamlessly integrates with other libraries, like Pandas, Matplotlib, and SciPy, enhancing Python's data manipulation and visualization capabilities, making it the backbone of the data science ecosystem.\n",
        "\n",
        "**Vectorization:** Through vectorization (performing operations on entire arrays rather than element-by-element), NumPy enables faster, more readable code by minimizing the need for explicit loops, which is essential for performance optimization."
      ],
      "metadata": {
        "id": "f-VvkSI1xg2L"
      }
    },
    {
      "cell_type": "markdown",
      "source": [
        "**2.Compare and contrast np.mean() and np.average() functions in NumPy. When would you use one over the\n",
        "other?**\n",
        "\n",
        "\n",
        "\n",
        "**In NumPy, np.mean() and np.average() both compute the average of array elements, but they differ in functionality: **\n",
        "\n",
        "**np.mean() calculates the simple arithmetic mean of an array, treating all elements equally.\n",
        "np.average() allows weighting of elements through a weights parameter. This means you can calculate a weighted average, where some elements contribute more than others to the final result.**\n",
        "\n",
        "**When to Use Each:**\n",
        "\n",
        "Use np.mean() when you need a straightforward average with all elements equally contributing.\n",
        "Use np.average() when elements have varying importance (e.g., calculating a grade with different weights for exams and assignments).\n",
        "\n",
        "**Example: For an array [1, 2, 3], np.mean() and np.average() both give 2.0 without weights. But with weights [1, 2, 1], np.average() would yield a weighted average of 2.25.**"
      ],
      "metadata": {
        "id": "3YxoHkiQx66D"
      }
    },
    {
      "cell_type": "markdown",
      "source": [
        "**3. Describe the methods for reversing a NumPy array along different axes. Provide examples for 1D and 2D\n",
        "arrays.**\n",
        "\n",
        "\n",
        "\n",
        "**In NumPy, you can reverse an array along different axes using slicing and the np.flip() function. Here’s how these methods work with both 1D and 2D arrays:**\n",
        "\n",
        "**1. Using Slicing ([::-1])**\n",
        "\n",
        "1D Array: Reverse all elements with slicing."
      ],
      "metadata": {
        "id": "k_vjkMS-yllw"
      }
    },
    {
      "cell_type": "code",
      "execution_count": 1,
      "metadata": {
        "colab": {
          "base_uri": "https://localhost:8080/"
        },
        "id": "y7SvLshRxWPq",
        "outputId": "f43aadf5-4251-4789-b8ac-cce343fb4527"
      },
      "outputs": [
        {
          "output_type": "stream",
          "name": "stdout",
          "text": [
            "[4 3 2 1]\n"
          ]
        }
      ],
      "source": [
        "import numpy as np\n",
        "arr_1d = np.array([1, 2, 3, 4])\n",
        "reversed_1d = arr_1d[::-1]\n",
        "print(reversed_1d)  # Output: [4, 3, 2, 1]"
      ]
    },
    {
      "cell_type": "markdown",
      "source": [
        "**2D Array: Reverse along rows or columns.**"
      ],
      "metadata": {
        "id": "WcP8fqWZyvbW"
      }
    },
    {
      "cell_type": "code",
      "source": [
        "arr_2d = np.array([[1, 2], [3, 4]])\n",
        "reversed_rows = arr_2d[::-1]          # Reverse row order\n",
        "reversed_columns = arr_2d[:, ::-1]    # Reverse column order\n",
        "print(reversed_rows)     # Output: [[3, 4], [1, 2]]\n",
        "print(reversed_columns)  # Output: [[2, 1], [4, 3]]"
      ],
      "metadata": {
        "colab": {
          "base_uri": "https://localhost:8080/"
        },
        "id": "U63IfP1hyyr1",
        "outputId": "a0faa29e-29d3-4ae0-a7cd-0f88f7281485"
      },
      "execution_count": 2,
      "outputs": [
        {
          "output_type": "stream",
          "name": "stdout",
          "text": [
            "[[3 4]\n",
            " [1 2]]\n",
            "[[2 1]\n",
            " [4 3]]\n"
          ]
        }
      ]
    },
    {
      "cell_type": "markdown",
      "source": [
        "**2. Using np.flip()**\n",
        "\n",
        "Slicing is quick and commonly used, but np.flip() adds clarity and flexibility for multidimensional arrays."
      ],
      "metadata": {
        "id": "WmnsfOtry3ER"
      }
    },
    {
      "cell_type": "code",
      "source": [
        "reversed_1d_flip = np.flip(arr_1d)\n",
        "print(reversed_1d_flip)  # Output: [4, 3, 2, 1]\n",
        "\n",
        "reversed_rows_flip = np.flip(arr_2d, axis=0)  # Reverse row order\n",
        "reversed_columns_flip = np.flip(arr_2d, axis=1)  # Reverse column order\n",
        "print(reversed_rows_flip)   # Output: [[3, 4], [1, 2]]\n",
        "print(reversed_columns_flip) # Output: [[2, 1], [4, 3]]"
      ],
      "metadata": {
        "colab": {
          "base_uri": "https://localhost:8080/"
        },
        "id": "7eUwLMJHy6-J",
        "outputId": "9543ee23-446c-4223-fa9d-08e2e951a01c"
      },
      "execution_count": 3,
      "outputs": [
        {
          "output_type": "stream",
          "name": "stdout",
          "text": [
            "[4 3 2 1]\n",
            "[[3 4]\n",
            " [1 2]]\n",
            "[[2 1]\n",
            " [4 3]]\n"
          ]
        }
      ]
    },
    {
      "cell_type": "markdown",
      "source": [
        "**4. How can you determine the data type of elements in a NumPy array? Discuss the importance of data types\n",
        "in memory management and performance.**\n",
        "\n",
        "**import numpy as np\n",
        "arr = np.array([1, 2, 3])\n",
        "print(arr.dtype)  # Output: dtype('int64')**"
      ],
      "metadata": {
        "id": "_8IJpQbpzAwM"
      }
    },
    {
      "cell_type": "code",
      "source": [
        "import numpy as np\n",
        "arr = np.array([1, 2, 3])\n",
        "print(arr.dtype)  # Output: dtype('int64')"
      ],
      "metadata": {
        "colab": {
          "base_uri": "https://localhost:8080/"
        },
        "id": "VzPn9cjxzD6E",
        "outputId": "e82b9e37-479b-4bd5-c27c-d3e1da316c4d"
      },
      "execution_count": 4,
      "outputs": [
        {
          "output_type": "stream",
          "name": "stdout",
          "text": [
            "int64\n"
          ]
        }
      ]
    },
    {
      "cell_type": "markdown",
      "source": [
        "**Importance of Data Types:**\n",
        "\n",
        "**Memory Management:** Data types define how much memory each element consumes (e.g., int32 uses 4 bytes, float64 uses 8 bytes). Choosing the correct type helps minimize memory usage, especially with large datasets.\n",
        "\n",
        "**Performance:** Operations on smaller data types are faster because they use less memory and processing power. For instance, using int16 instead of int64 when possible can speed up calculations.\n",
        "\n",
        "In short, selecting appropriate data types in NumPy ensures efficient memory use and faster computations."
      ],
      "metadata": {
        "id": "1ABj936YzII4"
      }
    },
    {
      "cell_type": "markdown",
      "source": [
        "**5. Define ndarrays in NumPy and explain their key features. How do they differ from standard Python lists?**\n",
        "\n",
        "\n",
        "In NumPy, an ndarray (N-dimensional array) is a powerful data structure for handling large, multi-dimensional data collections. It is the core of NumPy and allows for efficient storage and manipulation of arrays.\n",
        "\n",
        "**Key Features of ndarrays:**\n",
        "Fixed Size and Homogeneous Data: Elements in an ndarray are of a single data type, making memory usage more efficient.\n",
        "Supports Vectorized Operations: Enables fast element-wise operations without loops, allowing calculations on entire arrays at once.\n",
        "\n",
        "**N-dimensional:** Easily supports multi-dimensional data (e.g., 1D, 2D, or more), which is essential for complex datasets in scientific computing.\n",
        "\n",
        "**Efficient Memory Use**: Stores data in contiguous blocks, leading to faster data access and processing.\n",
        "\n",
        "**Difference from Python Lists:**\n",
        "\n",
        "**Homogeneity:** Lists can store different data types, while ndarrays store only one, optimizing speed.\n",
        "\n",
        "**Performance:** Ndarrays are faster and more memory-efficient than lists, especially with large data, due to optimized C-based implementations.\n",
        "In short, ndarrays provide structured, fast, and efficient array handling, ideal for scientific computing."
      ],
      "metadata": {
        "id": "FkMjHLj6zND7"
      }
    },
    {
      "cell_type": "markdown",
      "source": [
        "**6. Analyze the performance benefits of NumPy arrays over Python lists for large-scale numerical operations?**\n",
        "\n",
        "\n",
        "**NumPy arrays outperform Python lists in large-scale numerical operations due to:**\n",
        "\n",
        "\n",
        "**Memory Efficiency: **NumPy arrays use fixed, contiguous memory blocks, unlike Python lists, which store elements as objects with extra metadata. This reduces memory overhead and enables efficient storage.\n",
        "\n",
        "**Vectorized Operations**: NumPy allows operations on entire arrays at once (vectorization), eliminating slow Python loops. This boosts performance as operations are implemented in low-level C code, optimized for speed.\n",
        "\n",
        "**Type Consistency:** NumPy arrays store elements of the same type, making calculations faster than with lists, which can store mixed types.\n",
        "\n",
        "In summary, NumPy’s memory efficiency and vectorization make it ideal for fast, large-scale computations."
      ],
      "metadata": {
        "id": "AKq2xb_zzaRy"
      }
    },
    {
      "cell_type": "markdown",
      "source": [
        "**7. Compare vstack() and hstack() functions in NumPy. Provide examples demonstrating their usage and\n",
        "output?**\n",
        "\n",
        "\n",
        "In NumPy, vstack() and hstack() are used to stack arrays vertically and horizontally, respectively.\n",
        "\n",
        "**1. np.vstack()** - Vertical Stacking\n",
        "Stacks arrays row-wise (one on top of the other).\n",
        "The arrays must have the same number of columns."
      ],
      "metadata": {
        "id": "mzAOQf6zzi2r"
      }
    },
    {
      "cell_type": "code",
      "source": [
        "import numpy as np\n",
        "arr1 = np.array([1, 2])\n",
        "arr2 = np.array([3, 4])\n",
        "result = np.vstack((arr1, arr2))\n",
        "print(result)"
      ],
      "metadata": {
        "colab": {
          "base_uri": "https://localhost:8080/"
        },
        "id": "3qCnyMQfzMce",
        "outputId": "1008eabf-bd2e-46d0-f4ba-f8f3cb24dc50"
      },
      "execution_count": 5,
      "outputs": [
        {
          "output_type": "stream",
          "name": "stdout",
          "text": [
            "[[1 2]\n",
            " [3 4]]\n"
          ]
        }
      ]
    },
    {
      "cell_type": "markdown",
      "source": [
        "**2. np.hstack() - Horizontal Stacking\n",
        "Stacks arrays column-wise (side-by-side).\n",
        "The arrays must have the same number of rows.?**\n",
        "\n",
        "Summary: Use vstack() to add rows and hstack() to add columns, ensuring compatibility in shape (either rows or columns)."
      ],
      "metadata": {
        "id": "FTSzsnzE0v0s"
      }
    },
    {
      "cell_type": "code",
      "source": [
        "arr3 = np.array([[1], [2]])\n",
        "arr4 = np.array([[3], [4]])\n",
        "result = np.hstack((arr3, arr4))\n",
        "print(result)"
      ],
      "metadata": {
        "colab": {
          "base_uri": "https://localhost:8080/"
        },
        "id": "qmgz1ajg0z_1",
        "outputId": "dbc806b6-22a8-4c4f-d8b3-ef93d258f89e"
      },
      "execution_count": 6,
      "outputs": [
        {
          "output_type": "stream",
          "name": "stdout",
          "text": [
            "[[1 3]\n",
            " [2 4]]\n"
          ]
        }
      ]
    },
    {
      "cell_type": "markdown",
      "source": [
        "**8. Explain the differences between fliplr() and flipud() methods in NumPy, including their effects on various\n",
        "array dimensionst?**\n",
        "\n",
        "In NumPy, fliplr() and flipud() are used to flip arrays along different axes:\n",
        "\n",
        "**1. np.fliplr()** - Flip Left to Right\n",
        "Flips an array horizontally (left to right).\n",
        "Applicable only to 2D or higher-dimensional arrays."
      ],
      "metadata": {
        "id": "muNkwHVr05dH"
      }
    },
    {
      "cell_type": "code",
      "source": [
        "import numpy as np\n",
        "arr = np.array([[1, 2], [3, 4]])\n",
        "flipped_lr = np.fliplr(arr)\n",
        "print(flipped_lr)"
      ],
      "metadata": {
        "colab": {
          "base_uri": "https://localhost:8080/"
        },
        "id": "a4aJqSCU08sk",
        "outputId": "332fd6d4-61a0-4f56-e734-35ecac3cdfa6"
      },
      "execution_count": 7,
      "outputs": [
        {
          "output_type": "stream",
          "name": "stdout",
          "text": [
            "[[2 1]\n",
            " [4 3]]\n"
          ]
        }
      ]
    },
    {
      "cell_type": "markdown",
      "source": [
        "**2. np.flipud()** - Flip Up to Down\n",
        "\n",
        "Flips an array vertically (up to down).\n",
        "Works on any array with 2 or more dimensions.\n",
        "\n",
        "Summary: Use fliplr() to flip horizontally and flipud() to flip vertically. Both are useful for reorganizing data in matrices and images."
      ],
      "metadata": {
        "id": "3JwjMZwv1Apd"
      }
    },
    {
      "cell_type": "code",
      "source": [
        "flipped_ud = np.flipud(arr)\n",
        "print(flipped_ud)"
      ],
      "metadata": {
        "colab": {
          "base_uri": "https://localhost:8080/"
        },
        "id": "MoADp0e70_Qm",
        "outputId": "aebb5547-cc0b-431a-dd1c-647d2ea282f6"
      },
      "execution_count": 8,
      "outputs": [
        {
          "output_type": "stream",
          "name": "stdout",
          "text": [
            "[[3 4]\n",
            " [1 2]]\n"
          ]
        }
      ]
    },
    {
      "cell_type": "markdown",
      "source": [
        "**9. Discuss the functionality of the array_split() method in NumPy. How does it handle uneven splits?**\n",
        "\n",
        "The array_split() method in NumPy splits an array into specified numbers of sub-arrays. Unlike split(), it can handle cases where the array cannot be divided evenly.\n",
        "\n",
        "How It Handles Uneven Splits\n",
        "If the array cannot be split evenly, array_split() makes the initial sub-arrays larger.\n",
        "This ensures all parts have nearly equal elements, distributing the remainder to the first few sub-arrays.\n",
        "\n",
        "Summary: array_split() is flexible for uneven divisions, making it ideal for dynamic data partitioning."
      ],
      "metadata": {
        "id": "gH9ieJjb1K73"
      }
    },
    {
      "cell_type": "code",
      "source": [
        "import numpy as np\n",
        "arr = np.array([1, 2, 3, 4, 5])\n",
        "result = np.array_split(arr, 3)\n",
        "print(result)"
      ],
      "metadata": {
        "colab": {
          "base_uri": "https://localhost:8080/"
        },
        "id": "-VzE5va21PYo",
        "outputId": "f11bf4d7-e808-42fb-c701-6183137f8052"
      },
      "execution_count": 9,
      "outputs": [
        {
          "output_type": "stream",
          "name": "stdout",
          "text": [
            "[array([1, 2]), array([3, 4]), array([5])]\n"
          ]
        }
      ]
    },
    {
      "cell_type": "markdown",
      "source": [
        "**10. Explain the concepts of vectorization and broadcasting in NumPy. How do they contribute to efficient array\n",
        "operations?**\n",
        "\n",
        "**Vectorization and broadcasting are key concepts in NumPy that enhance performance by optimizing array operations:**\n",
        "\n",
        "**1. Vectorization**\n",
        "Vectorization allows operations to be applied directly on entire arrays instead of looping through individual elements.\n",
        "It makes code faster and cleaner by offloading operations to optimized, low-level C functions."
      ],
      "metadata": {
        "id": "55yTrGjI1Tmq"
      }
    },
    {
      "cell_type": "code",
      "source": [
        "arr1 = np.array([1, 2, 3])\n",
        "arr2 = 2          # Scalar broadcasted to array\n",
        "result = arr1 + arr2  # Output: [3, 4, 5]"
      ],
      "metadata": {
        "id": "mQXQ2GDO1XoL"
      },
      "execution_count": 10,
      "outputs": []
    },
    {
      "cell_type": "markdown",
      "source": [
        "**2. Broadcasting**\n",
        "Broadcasting allows arrays of different shapes to be combined in operations by “stretching” smaller arrays along specific dimensions without making extra copies.\n",
        "Enables efficient operations between arrays without reshaping or replicating data."
      ],
      "metadata": {
        "id": "s2lA2exK1ctb"
      }
    },
    {
      "cell_type": "code",
      "source": [
        "arr1 = np.array([1, 2, 3])\n",
        "arr2 = 2          # Scalar broadcasted to array\n",
        "result = arr1 + arr2  # Output: [3, 4, 5]"
      ],
      "metadata": {
        "id": "TINl8DPE1g6Q"
      },
      "execution_count": 11,
      "outputs": []
    },
    {
      "cell_type": "markdown",
      "source": [
        "### **Practical Questions:**"
      ],
      "metadata": {
        "id": "J3EOhXFp1ks4"
      }
    },
    {
      "cell_type": "markdown",
      "source": [
        "**1. Create a 3x3 NumPy array with random integers between 1 and 100. Then, interchange its rows and columns?**"
      ],
      "metadata": {
        "id": "cJA75pE91pdC"
      }
    },
    {
      "cell_type": "code",
      "source": [
        "import numpy as np\n",
        "\n",
        "import random\n",
        "\n",
        "ar=np.random.randint(1,100,size=(3,3))\n",
        "\n",
        "print(\"Original Array\",ar)\n",
        "\n",
        "print(\"Interchanged Array\",ar.T)"
      ],
      "metadata": {
        "colab": {
          "base_uri": "https://localhost:8080/"
        },
        "id": "GArErXjE1t3T",
        "outputId": "8de9dd16-b58a-42f2-e48d-411c08fc1993"
      },
      "execution_count": 12,
      "outputs": [
        {
          "output_type": "stream",
          "name": "stdout",
          "text": [
            "Original Array [[98 26 13]\n",
            " [99  9 71]\n",
            " [45 90 82]]\n",
            "Interchanged Array [[98 99 45]\n",
            " [26  9 90]\n",
            " [13 71 82]]\n"
          ]
        }
      ]
    },
    {
      "cell_type": "markdown",
      "source": [
        "**2. Generate a 1D NumPy array with 10 elements. Reshape it into a 2x5 array, then into a 5x2 array?**"
      ],
      "metadata": {
        "id": "m3fHQOcm11BV"
      }
    },
    {
      "cell_type": "code",
      "source": [
        "import numpy as np\n",
        "\n",
        "# Generate a 1D NumPy array with 10 elements\n",
        "array_1d = np.arange(10)  # Creates an array with elements from 0 to 9\n",
        "\n",
        "# Reshape it into a 2x5 array\n",
        "array_2x5 = array_1d.reshape(2, 5)\n",
        "\n",
        "# Reshape it into a 5x2 array\n",
        "array_5x2 = array_1d.reshape(5, 2)\n",
        "\n",
        "# Display the results\n",
        "print(\"1D Array:\")\n",
        "print(array_1d)\n",
        "\n",
        "print(\"\\nReshaped to 2x5 Array:\")\n",
        "print(array_2x5)\n",
        "\n",
        "print(\"\\nReshaped to 5x2 Array:\")\n",
        "print(array_5x2)"
      ],
      "metadata": {
        "colab": {
          "base_uri": "https://localhost:8080/"
        },
        "id": "pJMEm5oG14e5",
        "outputId": "89de6f4c-8983-45be-be1b-a0fbcc01624e"
      },
      "execution_count": 13,
      "outputs": [
        {
          "output_type": "stream",
          "name": "stdout",
          "text": [
            "1D Array:\n",
            "[0 1 2 3 4 5 6 7 8 9]\n",
            "\n",
            "Reshaped to 2x5 Array:\n",
            "[[0 1 2 3 4]\n",
            " [5 6 7 8 9]]\n",
            "\n",
            "Reshaped to 5x2 Array:\n",
            "[[0 1]\n",
            " [2 3]\n",
            " [4 5]\n",
            " [6 7]\n",
            " [8 9]]\n"
          ]
        }
      ]
    },
    {
      "cell_type": "markdown",
      "source": [
        "**3. Create a 4x4 NumPy array with random float values. Add a border of zeros around it, resulting in a 6x6 array?**"
      ],
      "metadata": {
        "id": "lM5hBVPG2A21"
      }
    },
    {
      "cell_type": "code",
      "source": [
        "import numpy as np\n",
        "import random\n",
        "\n",
        "a4x4=np.random.rand(4,4)\n",
        "print(\"Original Array\\n\",a4x4)\n",
        "\n",
        "a6x6=np.pad(a4x4,pad_width=1,mode='constant',constant_values=0)\n",
        "print(\"\\nNew Array\\n\\n\",a6x6)"
      ],
      "metadata": {
        "colab": {
          "base_uri": "https://localhost:8080/"
        },
        "id": "qGAKU2hD2EV9",
        "outputId": "4a6c45dd-8f37-4a0e-a93c-4b0eb328aa0a"
      },
      "execution_count": 14,
      "outputs": [
        {
          "output_type": "stream",
          "name": "stdout",
          "text": [
            "Original Array\n",
            " [[0.55249434 0.28780929 0.58427296 0.65512125]\n",
            " [0.74246052 0.65557602 0.81385828 0.47669839]\n",
            " [0.30334917 0.04171984 0.36389859 0.89449212]\n",
            " [0.31961624 0.69365096 0.42648135 0.17051228]]\n",
            "\n",
            "New Array\n",
            "\n",
            " [[0.         0.         0.         0.         0.         0.        ]\n",
            " [0.         0.55249434 0.28780929 0.58427296 0.65512125 0.        ]\n",
            " [0.         0.74246052 0.65557602 0.81385828 0.47669839 0.        ]\n",
            " [0.         0.30334917 0.04171984 0.36389859 0.89449212 0.        ]\n",
            " [0.         0.31961624 0.69365096 0.42648135 0.17051228 0.        ]\n",
            " [0.         0.         0.         0.         0.         0.        ]]\n"
          ]
        }
      ]
    },
    {
      "cell_type": "markdown",
      "source": [
        "**4.Using NumPy, create an array of integers from 10 to 60 with a step of 5?**"
      ],
      "metadata": {
        "id": "Jpgzmh3o2JWW"
      }
    },
    {
      "cell_type": "code",
      "source": [
        "array_of_integers = np.arange(10, 61, 5)\n",
        "print(array_of_integers)"
      ],
      "metadata": {
        "colab": {
          "base_uri": "https://localhost:8080/"
        },
        "id": "TCJmkJ612MKo",
        "outputId": "ae1e3581-259a-432e-9fca-71e220608299"
      },
      "execution_count": 15,
      "outputs": [
        {
          "output_type": "stream",
          "name": "stdout",
          "text": [
            "[10 15 20 25 30 35 40 45 50 55 60]\n"
          ]
        }
      ]
    },
    {
      "cell_type": "markdown",
      "source": [
        "**5.Create a NumPy array of strings ['python', 'numpy', 'pandas']. Apply different case transformations\n",
        "(uppercase, lowercase, title case, etc.) to each element?**"
      ],
      "metadata": {
        "id": "CqtB_T9A2Pqw"
      }
    },
    {
      "cell_type": "code",
      "source": [
        "array_of_strings = np.array(['python', 'numpy', 'pandas'])\n",
        "print(\"Original Array\",array_of_strings)\n",
        "\n",
        "print(\" \\n\\n upper case array :\",np.char.upper(array_of_strings))\n",
        "\n",
        "print(\" \\n\\n lower case array :\",np.char.lower(array_of_strings))\n",
        "\n",
        "print(\" \\n\\n title case array :\",np.char.title(array_of_strings))"
      ],
      "metadata": {
        "colab": {
          "base_uri": "https://localhost:8080/"
        },
        "id": "m-AVlYnj2Tcv",
        "outputId": "d2942202-036d-4a6d-c34c-2368da364d84"
      },
      "execution_count": 16,
      "outputs": [
        {
          "output_type": "stream",
          "name": "stdout",
          "text": [
            "Original Array ['python' 'numpy' 'pandas']\n",
            " \n",
            "\n",
            " upper case array : ['PYTHON' 'NUMPY' 'PANDAS']\n",
            " \n",
            "\n",
            " lower case array : ['python' 'numpy' 'pandas']\n",
            " \n",
            "\n",
            " title case array : ['Python' 'Numpy' 'Pandas']\n"
          ]
        }
      ]
    },
    {
      "cell_type": "markdown",
      "source": [
        "**6.Generate a NumPy array of words. Insert a space between each character of every word in the array?**"
      ],
      "metadata": {
        "id": "CL1GWrpa2Yi2"
      }
    },
    {
      "cell_type": "code",
      "source": [
        "words=np.array(['python', 'numpy', 'pandas'])\n",
        "\n",
        "spaced_words = np.char.join(' ', words)\n",
        "\n",
        "print(spaced_words)"
      ],
      "metadata": {
        "colab": {
          "base_uri": "https://localhost:8080/"
        },
        "id": "9B7tEAMY2cLv",
        "outputId": "f3c88667-a654-4370-f7e5-9001dfabe2a7"
      },
      "execution_count": 17,
      "outputs": [
        {
          "output_type": "stream",
          "name": "stdout",
          "text": [
            "['p y t h o n' 'n u m p y' 'p a n d a s']\n"
          ]
        }
      ]
    },
    {
      "cell_type": "markdown",
      "source": [
        "**7.Create two 2D NumPy arrays and perform element-wise addition, subtraction, multiplication, and division?**"
      ],
      "metadata": {
        "id": "3R2EVVVU2f-0"
      }
    },
    {
      "cell_type": "code",
      "source": [
        "a1=np.array([[1,2,3],[4,5,6]])\n",
        "\n",
        "a1=a1*2\n",
        "print(a1)\n",
        "\n",
        "a2=np.array([[7,8,9],[10,11,12]])\n",
        "\n",
        "a2=a2*2\n",
        "print(\"\\n\\n\",a2)\n",
        "\n",
        "\n",
        "import numpy as np\n",
        "\n",
        "# Create two 2D NumPy arrays\n",
        "array1 = np.array([[1, 2, 3],\n",
        "                   [4, 5, 6]])\n",
        "\n",
        "array2 = np.array([[7, 8, 9],\n",
        "                   [10, 11, 12]])\n",
        "\n",
        "# Perform element-wise operations\n",
        "addition = array1 + array2         # Element-wise addition\n",
        "subtraction = array1 - array2      # Element-wise subtraction\n",
        "multiplication = array1 * array2   # Element-wise multiplication\n",
        "division = array1 / array2         # Element-wise division\n",
        "\n",
        "# Display the results\n",
        "print(\"Array 1:\")\n",
        "print(array1)\n",
        "\n",
        "print(\"\\nArray 2:\")\n",
        "print(array2)\n",
        "\n",
        "print(\"\\nElement-wise Addition:\")\n",
        "print(addition)\n",
        "\n",
        "print(\"\\nElement-wise Subtraction:\")\n",
        "print(subtraction)\n",
        "\n",
        "print(\"\\nElement-wise Multiplication:\")\n",
        "print(multiplication)\n",
        "\n",
        "print(\"\\nElement-wise Division:\")\n",
        "print(division)\n"
      ],
      "metadata": {
        "colab": {
          "base_uri": "https://localhost:8080/"
        },
        "id": "-N2RbL3U2jTM",
        "outputId": "94b1351e-cc97-44c7-85b8-a9c32fb79e63"
      },
      "execution_count": 18,
      "outputs": [
        {
          "output_type": "stream",
          "name": "stdout",
          "text": [
            "[[ 2  4  6]\n",
            " [ 8 10 12]]\n",
            "\n",
            "\n",
            " [[14 16 18]\n",
            " [20 22 24]]\n",
            "Array 1:\n",
            "[[1 2 3]\n",
            " [4 5 6]]\n",
            "\n",
            "Array 2:\n",
            "[[ 7  8  9]\n",
            " [10 11 12]]\n",
            "\n",
            "Element-wise Addition:\n",
            "[[ 8 10 12]\n",
            " [14 16 18]]\n",
            "\n",
            "Element-wise Subtraction:\n",
            "[[-6 -6 -6]\n",
            " [-6 -6 -6]]\n",
            "\n",
            "Element-wise Multiplication:\n",
            "[[ 7 16 27]\n",
            " [40 55 72]]\n",
            "\n",
            "Element-wise Division:\n",
            "[[0.14285714 0.25       0.33333333]\n",
            " [0.4        0.45454545 0.5       ]]\n"
          ]
        }
      ]
    },
    {
      "cell_type": "markdown",
      "source": [
        "**8.Use NumPy to create a 5x5 identity matrix, then extract its diagonal elements?**"
      ],
      "metadata": {
        "id": "wnu7I-Hh2yn_"
      }
    },
    {
      "cell_type": "code",
      "source": [
        "m = np.matrix(np.random.randint(1, 101, size=(5, 5)))\n",
        "print(m,\"\\n\\n\")\n",
        "\n",
        "d=np.diagonal(m)\n",
        "print(d)"
      ],
      "metadata": {
        "colab": {
          "base_uri": "https://localhost:8080/"
        },
        "id": "GiuLLSUk22e6",
        "outputId": "e00c5b94-1e7b-4d2f-a37c-609ff58826e8"
      },
      "execution_count": 19,
      "outputs": [
        {
          "output_type": "stream",
          "name": "stdout",
          "text": [
            "[[24 28 99 65  3]\n",
            " [26 64 74 44 16]\n",
            " [90 91 20 19 88]\n",
            " [58 75 70 13 78]\n",
            " [57 82 36 13 23]] \n",
            "\n",
            "\n",
            "[24 64 20 13 23]\n"
          ]
        }
      ]
    },
    {
      "cell_type": "markdown",
      "source": [
        "**9.Generate a NumPy array of 100 random integers between 0 and 1000. Find and display all prime numbers in\n",
        "this array?**"
      ],
      "metadata": {
        "id": "7ATu1j4026Pf"
      }
    },
    {
      "cell_type": "code",
      "source": [
        "n=np.random.randint(0,1000,size=(100))\n",
        "print(n,\"\\n\\n\")\n",
        "\n",
        "def is_prime(num):\n",
        "    if num <= 1:\n",
        "        return False\n",
        "    if num <= 3:\n",
        "        return True\n",
        "    if num % 2 == 0 or num % 3 == 0:\n",
        "        return False\n",
        "    else:\n",
        "      return True\n",
        "prime_numbers = [num for num in n if is_prime(num)]\n",
        "\n",
        "print(\"\\n\\n Prime numbers in the array:\",prime_numbers)"
      ],
      "metadata": {
        "colab": {
          "base_uri": "https://localhost:8080/"
        },
        "id": "g9LMB2aj29hS",
        "outputId": "75f4874b-e645-4100-fa91-0ac5d9290fc1"
      },
      "execution_count": 20,
      "outputs": [
        {
          "output_type": "stream",
          "name": "stdout",
          "text": [
            "[ 23  64 106 991 921 992 967 997 108 854  40 280  42 629 907 139 309 342\n",
            " 398 134 850 228 372 404 778 959 246 562 115 991 127 897 484 275  99 311\n",
            " 949 768 242 193 797 408 766 934 321 118 725   1 355 617 173  28 592 285\n",
            " 339 198 503 803 121 996 697 842 434 639 155 998 151  59 533 664 656 268\n",
            " 728 224 783 962 684 106 498 295 430 755 313 473 289 829 554 424 367 370\n",
            " 776 482 641  81 499 782 724 258 363 442] \n",
            "\n",
            "\n",
            "\n",
            "\n",
            " Prime numbers in the array: [23, 991, 967, 997, 629, 907, 139, 959, 115, 991, 127, 275, 311, 949, 193, 797, 725, 355, 617, 173, 503, 803, 121, 697, 155, 151, 59, 533, 295, 755, 313, 473, 289, 829, 367, 641, 499]\n"
          ]
        }
      ]
    },
    {
      "cell_type": "markdown",
      "source": [
        "**10. Create a NumPy array representing daily temperatures for a month. Calculate and display the weekly\n",
        "averages?**"
      ],
      "metadata": {
        "id": "DG0ZWXxZ3CUq"
      }
    },
    {
      "cell_type": "code",
      "source": [
        "import numpy as np\n",
        "\n",
        "# Generate a random array of daily temperatures for 30 days between 15°C and 35°C\n",
        "daily_temperatures = np.random.randint(15, 36, size=30)\n",
        "print(\"Daily Temperatures for the Month:\\n\", daily_temperatures)\n",
        "\n",
        "# Reshape the array to represent 4 weeks of 7 days each and calculate weekly averages\n",
        "weekly_temperatures = daily_temperatures[:28].reshape(4, 7)\n",
        "weekly_averages = weekly_temperatures.mean(axis=1)\n",
        "\n",
        "# Display weekly averages\n",
        "print(\"\\nWeekly Averages:\")\n",
        "for i, avg in enumerate(weekly_averages, start=1):\n",
        "    print(f\"Week {i}: {avg:.2f}°C\")"
      ],
      "metadata": {
        "colab": {
          "base_uri": "https://localhost:8080/"
        },
        "id": "RarF0Wfb3Fd-",
        "outputId": "5f2388cd-7d66-458b-a1a6-6e2271de7533"
      },
      "execution_count": 21,
      "outputs": [
        {
          "output_type": "stream",
          "name": "stdout",
          "text": [
            "Daily Temperatures for the Month:\n",
            " [17 26 17 24 27 32 19 16 31 28 33 16 24 29 24 35 28 21 31 17 25 22 35 30\n",
            " 25 28 29 27 23 18]\n",
            "\n",
            "Weekly Averages:\n",
            "Week 1: 23.14°C\n",
            "Week 2: 25.29°C\n",
            "Week 3: 25.86°C\n",
            "Week 4: 28.00°C\n"
          ]
        }
      ]
    }
  ]
}